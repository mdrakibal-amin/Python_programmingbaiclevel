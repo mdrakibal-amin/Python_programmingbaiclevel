{
  "nbformat": 4,
  "nbformat_minor": 0,
  "metadata": {
    "colab": {
      "name": "Untitled9.ipynb",
      "provenance": [],
      "authorship_tag": "ABX9TyMg6dRsGm3NSdbhYuSlRJ1e",
      "include_colab_link": true
    },
    "kernelspec": {
      "name": "python3",
      "display_name": "Python 3"
    },
    "language_info": {
      "name": "python"
    }
  },
  "cells": [
    {
      "cell_type": "markdown",
      "metadata": {
        "id": "view-in-github",
        "colab_type": "text"
      },
      "source": [
        "<a href=\"https://colab.research.google.com/github/mdrakibal-amin/Python_programmingbaiclevel/blob/main/Untitled9.ipynb\" target=\"_parent\"><img src=\"https://colab.research.google.com/assets/colab-badge.svg\" alt=\"Open In Colab\"/></a>"
      ]
    },
    {
      "cell_type": "markdown",
      "source": [
        "# Functions-->>python....**bold text** *italicized text*"
      ],
      "metadata": {
        "id": "x-zsMpZx0teA"
      }
    },
    {
      "cell_type": "code",
      "source": [
        "def printsuccess():\n",
        "    print(\"I am done\")\n",
        "    print(\"Send me another task\")"
      ],
      "metadata": {
        "id": "Rb-OUCLo0pLr"
      },
      "execution_count": null,
      "outputs": []
    },
    {
      "cell_type": "code",
      "source": [
        "printsuccess()"
      ],
      "metadata": {
        "colab": {
          "base_uri": "https://localhost:8080/"
        },
        "id": "ABt68_cT0pRw",
        "outputId": "06925b71-415f-4ed1-a3b1-a9ff334580a8"
      },
      "execution_count": null,
      "outputs": [
        {
          "output_type": "stream",
          "name": "stdout",
          "text": [
            "I am done\n",
            "Send me another task\n"
          ]
        }
      ]
    },
    {
      "cell_type": "code",
      "source": [
        "def printsuccess2():\n",
        "    \"\"\" This function is doing nothing except printing a message.\n",
        "    That message is \"hellow\"\n",
        "    \"\"\"\n",
        "    print(\"hellow\")"
      ],
      "metadata": {
        "id": "p6OXilN00pYw"
      },
      "execution_count": null,
      "outputs": []
    },
    {
      "cell_type": "code",
      "source": [
        "printsuccess2?"
      ],
      "metadata": {
        "id": "nEhW5FM40pca"
      },
      "execution_count": null,
      "outputs": []
    },
    {
      "cell_type": "code",
      "source": [
        "len?"
      ],
      "metadata": {
        "id": "P973f6J50pfz"
      },
      "execution_count": null,
      "outputs": []
    },
    {
      "cell_type": "code",
      "source": [
        "help(printsuccess2)"
      ],
      "metadata": {
        "colab": {
          "base_uri": "https://localhost:8080/"
        },
        "id": "C_gah95T0poU",
        "outputId": "12da824a-7ed1-4cbc-9a28-60e4d9a6743f"
      },
      "execution_count": null,
      "outputs": [
        {
          "output_type": "stream",
          "name": "stdout",
          "text": [
            "Help on function printsuccess2 in module __main__:\n",
            "\n",
            "printsuccess2()\n",
            "    This function is doing nothing except printing a message.\n",
            "    That message is \"hellow\"\n",
            "\n"
          ]
        }
      ]
    },
    {
      "cell_type": "code",
      "source": [
        "printsuccess2()"
      ],
      "metadata": {
        "colab": {
          "base_uri": "https://localhost:8080/"
        },
        "id": "EmSF2y4w0prq",
        "outputId": "9305ca21-30f1-4596-a6f9-9e8348ec3cbc"
      },
      "execution_count": null,
      "outputs": [
        {
          "output_type": "stream",
          "name": "stdout",
          "text": [
            "hellow\n"
          ]
        }
      ]
    },
    {
      "cell_type": "code",
      "source": [
        "def printMsg(msg):\n",
        "    \"\"\" The function prints  the message supplied by the user or prints that is not \n",
        "    in the form of string\"\"\"\n",
        "    if  isinstance(msg,str):\n",
        "         print(msg)\n",
        "    else:\n",
        "         print(\"Your argument is not a string\")\n",
        "         print(\"Here is what type you have supplied:\",type(msg))\n",
        "        "
      ],
      "metadata": {
        "id": "U5qrxFLP76i0"
      },
      "execution_count": null,
      "outputs": []
    },
    {
      "cell_type": "code",
      "source": [
        "help(printMsg)"
      ],
      "metadata": {
        "colab": {
          "base_uri": "https://localhost:8080/"
        },
        "id": "NMZCjTD476uk",
        "outputId": "2391599e-0924-4569-e3c2-6ce45296aef9"
      },
      "execution_count": null,
      "outputs": [
        {
          "output_type": "stream",
          "name": "stdout",
          "text": [
            "Help on function printMsg in module __main__:\n",
            "\n",
            "printMsg(msg)\n",
            "    The function prints  the message supplied by the user or prints that is not \n",
            "    in the form of string\n",
            "\n"
          ]
        }
      ]
    },
    {
      "cell_type": "code",
      "source": [
        "printMsg?"
      ],
      "metadata": {
        "id": "_MmILEWo77Cc"
      },
      "execution_count": null,
      "outputs": []
    },
    {
      "cell_type": "code",
      "source": [
        "printMsg??"
      ],
      "metadata": {
        "id": "aThOnf6k77ME"
      },
      "execution_count": null,
      "outputs": []
    },
    {
      "cell_type": "code",
      "source": [
        "printMsg(\"This is the message\")"
      ],
      "metadata": {
        "colab": {
          "base_uri": "https://localhost:8080/"
        },
        "id": "ThQcXyWe77Qh",
        "outputId": "6e965a6d-a4ce-4431-aa31-40ad2d28b3f0"
      },
      "execution_count": null,
      "outputs": [
        {
          "output_type": "stream",
          "name": "stdout",
          "text": [
            "This is the message\n"
          ]
        }
      ]
    },
    {
      "cell_type": "code",
      "source": [
        "printMsg(45.91)"
      ],
      "metadata": {
        "colab": {
          "base_uri": "https://localhost:8080/"
        },
        "id": "_3l3wWM-77cS",
        "outputId": "20dc9dbe-0074-4c60-f6f8-48ec02ff4721"
      },
      "execution_count": null,
      "outputs": [
        {
          "output_type": "stream",
          "name": "stdout",
          "text": [
            "Your argument is not a string\n",
            "Here is what type you have supplied: <class 'float'>\n"
          ]
        }
      ]
    },
    {
      "cell_type": "code",
      "source": [
        "printMsg(False)"
      ],
      "metadata": {
        "colab": {
          "base_uri": "https://localhost:8080/"
        },
        "id": "hCh5LkeeE4J2",
        "outputId": "99bfb12d-5406-4096-9fa4-1a79c3f7b681"
      },
      "execution_count": null,
      "outputs": [
        {
          "output_type": "stream",
          "name": "stdout",
          "text": [
            "Your argument is not a string\n",
            "Here is what type you have supplied: <class 'bool'>\n"
          ]
        }
      ]
    },
    {
      "cell_type": "code",
      "source": [
        "y = \"hello Rakib\"\n",
        "printMsg(y)"
      ],
      "metadata": {
        "colab": {
          "base_uri": "https://localhost:8080/"
        },
        "id": "2STaARPCFnmv",
        "outputId": "12b19382-f4fe-429f-9076-0489b4191a64"
      },
      "execution_count": null,
      "outputs": [
        {
          "output_type": "stream",
          "name": "stdout",
          "text": [
            "hello Rakib\n"
          ]
        }
      ]
    },
    {
      "cell_type": "code",
      "source": [
        "def mypow(a,b):\n",
        "    \"\"\" this functions computes power just like builtin pow function\"\"\"\n",
        "    c = a**b\n",
        "    print(c)"
      ],
      "metadata": {
        "id": "Dv0p13jkFnzV"
      },
      "execution_count": null,
      "outputs": []
    },
    {
      "cell_type": "code",
      "source": [
        "mypow?"
      ],
      "metadata": {
        "id": "yApdboqlH6sh"
      },
      "execution_count": null,
      "outputs": []
    },
    {
      "cell_type": "code",
      "source": [
        "mypow??"
      ],
      "metadata": {
        "id": "3wolIsMpH-yv"
      },
      "execution_count": null,
      "outputs": []
    },
    {
      "cell_type": "code",
      "source": [
        "mypow(5,8)"
      ],
      "metadata": {
        "colab": {
          "base_uri": "https://localhost:8080/"
        },
        "id": "0Wlyg_DhIiYz",
        "outputId": "89f3482f-f554-4bab-9aab-9a83ed39eb04"
      },
      "execution_count": null,
      "outputs": [
        {
          "output_type": "stream",
          "name": "stdout",
          "text": [
            "390625\n"
          ]
        }
      ]
    },
    {
      "cell_type": "code",
      "source": [
        "def checkArgs(a,b,c):\n",
        "    if isinstance(a,(int,float)) and (b,(int,float)) and (c,(int,float)):\n",
        "        print((a+b+c)**4)\n",
        "    else:\n",
        "        print(\"Error: the input arguments are not of the expected types\")"
      ],
      "metadata": {
        "id": "SZYg-S4QIikg"
      },
      "execution_count": null,
      "outputs": []
    },
    {
      "cell_type": "code",
      "source": [
        "checkArgs(1.5,2.5,1)"
      ],
      "metadata": {
        "colab": {
          "base_uri": "https://localhost:8080/"
        },
        "id": "npJBNf9vIiuI",
        "outputId": "cca7f883-d58b-419c-bbf6-bc289d293bff"
      },
      "execution_count": null,
      "outputs": [
        {
          "output_type": "stream",
          "name": "stdout",
          "text": [
            "625.0\n"
          ]
        }
      ]
    },
    {
      "cell_type": "code",
      "source": [
        "checkArgs(3,\"h\",9.2)"
      ],
      "metadata": {
        "colab": {
          "base_uri": "https://localhost:8080/",
          "height": 296
        },
        "id": "A6Qv6h_CIi9W",
        "outputId": "791a3e90-f714-474d-a1c6-f373d809deb4"
      },
      "execution_count": null,
      "outputs": [
        {
          "output_type": "error",
          "ename": "TypeError",
          "evalue": "ignored",
          "traceback": [
            "\u001b[0;31m---------------------------------------------------------------------------\u001b[0m",
            "\u001b[0;31mTypeError\u001b[0m                                 Traceback (most recent call last)",
            "\u001b[0;32m<ipython-input-32-ed7be1c14c11>\u001b[0m in \u001b[0;36m<module>\u001b[0;34m()\u001b[0m\n\u001b[0;32m----> 1\u001b[0;31m \u001b[0mcheckArgs\u001b[0m\u001b[0;34m(\u001b[0m\u001b[0;36m3\u001b[0m\u001b[0;34m,\u001b[0m\u001b[0;34m\"h\"\u001b[0m\u001b[0;34m,\u001b[0m\u001b[0;36m9.2\u001b[0m\u001b[0;34m)\u001b[0m\u001b[0;34m\u001b[0m\u001b[0;34m\u001b[0m\u001b[0m\n\u001b[0m",
            "\u001b[0;32m<ipython-input-30-c97378dc7177>\u001b[0m in \u001b[0;36mcheckArgs\u001b[0;34m(a, b, c)\u001b[0m\n\u001b[1;32m      1\u001b[0m \u001b[0;32mdef\u001b[0m \u001b[0mcheckArgs\u001b[0m\u001b[0;34m(\u001b[0m\u001b[0ma\u001b[0m\u001b[0;34m,\u001b[0m\u001b[0mb\u001b[0m\u001b[0;34m,\u001b[0m\u001b[0mc\u001b[0m\u001b[0;34m)\u001b[0m\u001b[0;34m:\u001b[0m\u001b[0;34m\u001b[0m\u001b[0;34m\u001b[0m\u001b[0m\n\u001b[1;32m      2\u001b[0m     \u001b[0;32mif\u001b[0m \u001b[0misinstance\u001b[0m\u001b[0;34m(\u001b[0m\u001b[0ma\u001b[0m\u001b[0;34m,\u001b[0m\u001b[0;34m(\u001b[0m\u001b[0mint\u001b[0m\u001b[0;34m,\u001b[0m\u001b[0mfloat\u001b[0m\u001b[0;34m)\u001b[0m\u001b[0;34m)\u001b[0m \u001b[0;32mand\u001b[0m \u001b[0;34m(\u001b[0m\u001b[0mb\u001b[0m\u001b[0;34m,\u001b[0m\u001b[0;34m(\u001b[0m\u001b[0mint\u001b[0m\u001b[0;34m,\u001b[0m\u001b[0mfloat\u001b[0m\u001b[0;34m)\u001b[0m\u001b[0;34m)\u001b[0m \u001b[0;32mand\u001b[0m \u001b[0;34m(\u001b[0m\u001b[0mc\u001b[0m\u001b[0;34m,\u001b[0m\u001b[0;34m(\u001b[0m\u001b[0mint\u001b[0m\u001b[0;34m,\u001b[0m\u001b[0mfloat\u001b[0m\u001b[0;34m)\u001b[0m\u001b[0;34m)\u001b[0m\u001b[0;34m:\u001b[0m\u001b[0;34m\u001b[0m\u001b[0;34m\u001b[0m\u001b[0m\n\u001b[0;32m----> 3\u001b[0;31m         \u001b[0mprint\u001b[0m\u001b[0;34m(\u001b[0m\u001b[0;34m(\u001b[0m\u001b[0ma\u001b[0m\u001b[0;34m+\u001b[0m\u001b[0mb\u001b[0m\u001b[0;34m+\u001b[0m\u001b[0mc\u001b[0m\u001b[0;34m)\u001b[0m\u001b[0;34m**\u001b[0m\u001b[0;36m4\u001b[0m\u001b[0;34m)\u001b[0m\u001b[0;34m\u001b[0m\u001b[0;34m\u001b[0m\u001b[0m\n\u001b[0m\u001b[1;32m      4\u001b[0m     \u001b[0;32melse\u001b[0m\u001b[0;34m:\u001b[0m\u001b[0;34m\u001b[0m\u001b[0;34m\u001b[0m\u001b[0m\n\u001b[1;32m      5\u001b[0m         \u001b[0mprint\u001b[0m\u001b[0;34m(\u001b[0m\u001b[0;34m\"Error: the input arguments are not of the expected types\"\u001b[0m\u001b[0;34m)\u001b[0m\u001b[0;34m\u001b[0m\u001b[0;34m\u001b[0m\u001b[0m\n",
            "\u001b[0;31mTypeError\u001b[0m: unsupported operand type(s) for +: 'int' and 'str'"
          ]
        }
      ]
    },
    {
      "cell_type": "code",
      "source": [
        "def f(a,b,c):\n",
        "    print(\"A is :\",a)\n",
        "    print(\"B is :\",b)\n",
        "    print(\"C is :\",c)"
      ],
      "metadata": {
        "id": "X_c5wXVCMSxg"
      },
      "execution_count": null,
      "outputs": []
    },
    {
      "cell_type": "code",
      "source": [
        "f(12,\"hello\",False)"
      ],
      "metadata": {
        "colab": {
          "base_uri": "https://localhost:8080/"
        },
        "id": "wD5IQRGyMTAy",
        "outputId": "e7643ebc-9525-4946-8e79-022d6318ba5b"
      },
      "execution_count": null,
      "outputs": [
        {
          "output_type": "stream",
          "name": "stdout",
          "text": [
            "A is : 12\n",
            "B is : hello\n",
            "C is : False\n"
          ]
        }
      ]
    },
    {
      "cell_type": "code",
      "source": [
        "f(\"hello\",False,12)"
      ],
      "metadata": {
        "colab": {
          "base_uri": "https://localhost:8080/"
        },
        "id": "WawdruAZMTEw",
        "outputId": "7a01e805-087f-4ff0-9fa2-8cffb11f78fd"
      },
      "execution_count": null,
      "outputs": [
        {
          "output_type": "stream",
          "name": "stdout",
          "text": [
            "A is : hello\n",
            "B is : False\n",
            "C is : 12\n"
          ]
        }
      ]
    },
    {
      "cell_type": "code",
      "source": [
        "f(a=False, b=12, c=\"hello\")"
      ],
      "metadata": {
        "colab": {
          "base_uri": "https://localhost:8080/"
        },
        "id": "GAo15YKLQLIB",
        "outputId": "ad341d16-8457-4550-e961-5b83fdf884a6"
      },
      "execution_count": null,
      "outputs": [
        {
          "output_type": "stream",
          "name": "stdout",
          "text": [
            "A is : False\n",
            "B is : 12\n",
            "C is : hello\n"
          ]
        }
      ]
    },
    {
      "cell_type": "code",
      "source": [
        "f(b=False, a=\"hello\",c=12)"
      ],
      "metadata": {
        "colab": {
          "base_uri": "https://localhost:8080/"
        },
        "id": "l2sYymj3QLSR",
        "outputId": "739c1f8b-7984-44d6-98ab-d3690dbfe38d"
      },
      "execution_count": null,
      "outputs": [
        {
          "output_type": "stream",
          "name": "stdout",
          "text": [
            "A is : hello\n",
            "B is : False\n",
            "C is : 12\n"
          ]
        }
      ]
    },
    {
      "cell_type": "code",
      "source": [
        "def myadd(a,b):\n",
        "    sumvalue = a+b"
      ],
      "metadata": {
        "id": "wIrmZ2v9QLXB"
      },
      "execution_count": null,
      "outputs": []
    },
    {
      "cell_type": "code",
      "source": [
        "myadd(9,5.6)\n",
        "print(sumvalue)"
      ],
      "metadata": {
        "colab": {
          "base_uri": "https://localhost:8080/",
          "height": 188
        },
        "id": "dnMBe-d7QLnj",
        "outputId": "d93637e5-da3f-47a7-8a20-791a2226c2e3"
      },
      "execution_count": null,
      "outputs": [
        {
          "output_type": "error",
          "ename": "NameError",
          "evalue": "ignored",
          "traceback": [
            "\u001b[0;31m---------------------------------------------------------------------------\u001b[0m",
            "\u001b[0;31mNameError\u001b[0m                                 Traceback (most recent call last)",
            "\u001b[0;32m<ipython-input-43-17de35c97a7f>\u001b[0m in \u001b[0;36m<module>\u001b[0;34m()\u001b[0m\n\u001b[1;32m      1\u001b[0m \u001b[0mmyadd\u001b[0m\u001b[0;34m(\u001b[0m\u001b[0;36m9\u001b[0m\u001b[0;34m,\u001b[0m\u001b[0;36m5.6\u001b[0m\u001b[0;34m)\u001b[0m\u001b[0;34m\u001b[0m\u001b[0;34m\u001b[0m\u001b[0m\n\u001b[0;32m----> 2\u001b[0;31m \u001b[0mprint\u001b[0m\u001b[0;34m(\u001b[0m\u001b[0msumvalue\u001b[0m\u001b[0;34m)\u001b[0m\u001b[0;34m\u001b[0m\u001b[0;34m\u001b[0m\u001b[0m\n\u001b[0m",
            "\u001b[0;31mNameError\u001b[0m: name 'sumvalue' is not defined"
          ]
        }
      ]
    },
    {
      "cell_type": "code",
      "source": [
        "def myadd(a,b):\n",
        "    sumvalue = a+b\n",
        "    return sumvalue"
      ],
      "metadata": {
        "id": "lT9mxyQPQL1J"
      },
      "execution_count": null,
      "outputs": []
    },
    {
      "cell_type": "code",
      "source": [
        "myadd(9,5.6)\n",
        "print(sumvalue)"
      ],
      "metadata": {
        "colab": {
          "base_uri": "https://localhost:8080/",
          "height": 188
        },
        "id": "Sa72DQgpQL43",
        "outputId": "02a543ed-9ff8-4478-b5d6-36116e6891a6"
      },
      "execution_count": null,
      "outputs": [
        {
          "output_type": "error",
          "ename": "NameError",
          "evalue": "ignored",
          "traceback": [
            "\u001b[0;31m---------------------------------------------------------------------------\u001b[0m",
            "\u001b[0;31mNameError\u001b[0m                                 Traceback (most recent call last)",
            "\u001b[0;32m<ipython-input-46-17de35c97a7f>\u001b[0m in \u001b[0;36m<module>\u001b[0;34m()\u001b[0m\n\u001b[1;32m      1\u001b[0m \u001b[0mmyadd\u001b[0m\u001b[0;34m(\u001b[0m\u001b[0;36m9\u001b[0m\u001b[0;34m,\u001b[0m\u001b[0;36m5.6\u001b[0m\u001b[0;34m)\u001b[0m\u001b[0;34m\u001b[0m\u001b[0;34m\u001b[0m\u001b[0m\n\u001b[0;32m----> 2\u001b[0;31m \u001b[0mprint\u001b[0m\u001b[0;34m(\u001b[0m\u001b[0msumvalue\u001b[0m\u001b[0;34m)\u001b[0m\u001b[0;34m\u001b[0m\u001b[0;34m\u001b[0m\u001b[0m\n\u001b[0m",
            "\u001b[0;31mNameError\u001b[0m: name 'sumvalue' is not defined"
          ]
        }
      ]
    },
    {
      "cell_type": "code",
      "source": [
        " d = myadd(9,5.6)\n",
        "print(d)"
      ],
      "metadata": {
        "colab": {
          "base_uri": "https://localhost:8080/"
        },
        "id": "WUuo5_QDWEdU",
        "outputId": "c478080e-2f1d-49c3-e351-f207ea8f8d71"
      },
      "execution_count": null,
      "outputs": [
        {
          "output_type": "stream",
          "name": "stdout",
          "text": [
            "14.6\n"
          ]
        }
      ]
    },
    {
      "cell_type": "code",
      "source": [
        "variableOutsiteTheFunction =24"
      ],
      "metadata": {
        "id": "wpS5ohnbWEyK"
      },
      "execution_count": null,
      "outputs": []
    },
    {
      "cell_type": "code",
      "source": [
        "def k():\n",
        "  print(variableOutsiteTheFunction)"
      ],
      "metadata": {
        "id": "CK1H6s9cW0XX"
      },
      "execution_count": null,
      "outputs": []
    },
    {
      "cell_type": "code",
      "source": [
        "k()"
      ],
      "metadata": {
        "colab": {
          "base_uri": "https://localhost:8080/"
        },
        "id": "-14lItZQW0es",
        "outputId": "a4e267e5-f827-4e98-8cf7-f88439e4b6a1"
      },
      "execution_count": null,
      "outputs": [
        {
          "output_type": "stream",
          "name": "stdout",
          "text": [
            "24\n"
          ]
        }
      ]
    },
    {
      "cell_type": "code",
      "source": [
        "variableOutsiteTheFunction =24"
      ],
      "metadata": {
        "id": "H0qwl-lJXH6j"
      },
      "execution_count": null,
      "outputs": []
    },
    {
      "cell_type": "code",
      "source": [
        "def k():\n",
        "     variableOutsiteTheFunction =8.8\n",
        "     print(variableOutsiteTheFunction)"
      ],
      "metadata": {
        "id": "DWUm5U1wXID2"
      },
      "execution_count": null,
      "outputs": []
    },
    {
      "cell_type": "code",
      "source": [
        "k()"
      ],
      "metadata": {
        "colab": {
          "base_uri": "https://localhost:8080/"
        },
        "id": "D4gV9nBmXIHU",
        "outputId": "9e779f5f-aa98-49d4-c585-87ae95a8b43d"
      },
      "execution_count": null,
      "outputs": [
        {
          "output_type": "stream",
          "name": "stdout",
          "text": [
            "8.8\n"
          ]
        }
      ]
    },
    {
      "cell_type": "code",
      "source": [
        "print(variableOutsiteTheFunction)"
      ],
      "metadata": {
        "colab": {
          "base_uri": "https://localhost:8080/"
        },
        "id": "w66x5uXHXILR",
        "outputId": "3b01cf64-27a9-485a-e39b-4172c61d5e84"
      },
      "execution_count": null,
      "outputs": [
        {
          "output_type": "stream",
          "name": "stdout",
          "text": [
            "24\n"
          ]
        }
      ]
    },
    {
      "cell_type": "code",
      "source": [
        "def k():\n",
        "     variableOutsiteTheFunction =8.8\n",
        "     #print(variableOutsiteTheFunction)"
      ],
      "metadata": {
        "id": "S0NyXeV2XIPb"
      },
      "execution_count": null,
      "outputs": []
    },
    {
      "cell_type": "code",
      "source": [
        "print(k())"
      ],
      "metadata": {
        "colab": {
          "base_uri": "https://localhost:8080/"
        },
        "id": "30uvKOlxXIi5",
        "outputId": "db6bd8ec-951a-4921-e5ae-4760b7bab88d"
      },
      "execution_count": null,
      "outputs": [
        {
          "output_type": "stream",
          "name": "stdout",
          "text": [
            "None\n"
          ]
        }
      ]
    },
    {
      "cell_type": "code",
      "source": [
        "print(type(k()))"
      ],
      "metadata": {
        "colab": {
          "base_uri": "https://localhost:8080/"
        },
        "id": "z6WljeuJXJEz",
        "outputId": "83463738-d8ea-4efe-ee9e-9f1042813b1f"
      },
      "execution_count": null,
      "outputs": [
        {
          "output_type": "stream",
          "name": "stdout",
          "text": [
            "<class 'NoneType'>\n"
          ]
        }
      ]
    },
    {
      "cell_type": "code",
      "source": [
        "def x():\n",
        "    print(\"A\")\n",
        "    a=12.557\n",
        "    b=10.223\n",
        "    c=a-b\n",
        "    print(\"something\")\n",
        "    return\n",
        "    print(\"B\")\n",
        "    print(\"C\")"
      ],
      "metadata": {
        "id": "DZ0loxDMXJPb"
      },
      "execution_count": null,
      "outputs": []
    },
    {
      "cell_type": "code",
      "source": [
        "x()"
      ],
      "metadata": {
        "colab": {
          "base_uri": "https://localhost:8080/"
        },
        "id": "fe0l4EB3W07F",
        "outputId": "59f7cfaa-df18-46b1-ab7d-b39a36db995b"
      },
      "execution_count": null,
      "outputs": [
        {
          "output_type": "stream",
          "name": "stdout",
          "text": [
            "A\n",
            "something\n"
          ]
        }
      ]
    },
    {
      "cell_type": "code",
      "source": [
        "print(x())"
      ],
      "metadata": {
        "colab": {
          "base_uri": "https://localhost:8080/"
        },
        "id": "idrsVzoRa-we",
        "outputId": "217c7ab8-b34f-4b10-aadc-692485182eee"
      },
      "execution_count": null,
      "outputs": [
        {
          "output_type": "stream",
          "name": "stdout",
          "text": [
            "A\n",
            "something\n",
            "None\n"
          ]
        }
      ]
    },
    {
      "cell_type": "code",
      "source": [
        "def x():\n",
        "    print(\"A\")\n",
        "    a=12.557\n",
        "    b=10.223\n",
        "    c=a-b\n",
        "    print(\"something\")\n",
        "    return c\n",
        "    print(\"B\")\n",
        "    print(\"C\")"
      ],
      "metadata": {
        "id": "Gsg35gHQa-0E"
      },
      "execution_count": null,
      "outputs": []
    },
    {
      "cell_type": "code",
      "source": [
        "print(x())"
      ],
      "metadata": {
        "colab": {
          "base_uri": "https://localhost:8080/"
        },
        "id": "JQeVx_90a-7s",
        "outputId": "d133ee99-ca34-42c0-9144-5eef80b9c872"
      },
      "execution_count": null,
      "outputs": [
        {
          "output_type": "stream",
          "name": "stdout",
          "text": [
            "A\n",
            "something\n",
            "2.3339999999999996\n"
          ]
        }
      ]
    },
    {
      "cell_type": "code",
      "source": [
        "def m():\n",
        "      n=15\n",
        "      t=12\n",
        "      d=\"something\"\n",
        "      return n, t,d"
      ],
      "metadata": {
        "id": "8YWRzVDecTlT"
      },
      "execution_count": null,
      "outputs": []
    },
    {
      "cell_type": "code",
      "source": [
        "f,g,h = m()\n",
        "print(f,g,h)"
      ],
      "metadata": {
        "colab": {
          "base_uri": "https://localhost:8080/"
        },
        "id": "pEBoHBqFcTu1",
        "outputId": "79897bda-2e14-41dc-931a-e8b4341f8ff9"
      },
      "execution_count": null,
      "outputs": [
        {
          "output_type": "stream",
          "name": "stdout",
          "text": [
            "15 12 something\n"
          ]
        }
      ]
    },
    {
      "cell_type": "code",
      "source": [
        "def myAddUniversal(*args):\n",
        "    s=0\n",
        "    for i in range(len(args)):\n",
        "        s+=args[i]\n",
        "    return s"
      ],
      "metadata": {
        "id": "XMG2nEfacT9k"
      },
      "execution_count": 1,
      "outputs": []
    },
    {
      "cell_type": "code",
      "source": [
        "print(myAddUniversal(3,9,7,4))"
      ],
      "metadata": {
        "colab": {
          "base_uri": "https://localhost:8080/"
        },
        "id": "xPwVoVXY9s9s",
        "outputId": "850518a7-40fc-4c3f-da31-c5fd994eb8b6"
      },
      "execution_count": 2,
      "outputs": [
        {
          "output_type": "stream",
          "name": "stdout",
          "text": [
            "23\n"
          ]
        }
      ]
    },
    {
      "cell_type": "code",
      "source": [
        "def printAllVariableNamesAndValues(**args):\n",
        "    for x in args:\n",
        "        print(\"Variable name is:\",x,\" And value is:\",args[x])"
      ],
      "metadata": {
        "id": "vvodyePL9tVr"
      },
      "execution_count": 23,
      "outputs": []
    },
    {
      "cell_type": "code",
      "source": [
        "printAllVariableNamesAndValues(m=4.5, n=\"N\",t=\"BBBB\",z=9.31)"
      ],
      "metadata": {
        "colab": {
          "base_uri": "https://localhost:8080/"
        },
        "id": "mqzCpiN-9tab",
        "outputId": "dbd60be2-7d7f-4640-d1bb-a540f08b14ca"
      },
      "execution_count": 24,
      "outputs": [
        {
          "output_type": "stream",
          "name": "stdout",
          "text": [
            "Variable name is: m  And value is: 4.5\n",
            "Variable name is: n  And value is: N\n",
            "Variable name is: t  And value is: BBBB\n",
            "Variable name is: z  And value is: 9.31\n"
          ]
        }
      ]
    },
    {
      "cell_type": "code",
      "source": [
        "def mm(k=5):\n",
        "    print(k)"
      ],
      "metadata": {
        "id": "MAenAFT8D4zb"
      },
      "execution_count": 25,
      "outputs": []
    },
    {
      "cell_type": "code",
      "source": [
        "mm()"
      ],
      "metadata": {
        "colab": {
          "base_uri": "https://localhost:8080/"
        },
        "id": "u1JG48u-D4-h",
        "outputId": "5ae77346-4a11-4ac4-c74d-b7024b69b77f"
      },
      "execution_count": 26,
      "outputs": [
        {
          "output_type": "stream",
          "name": "stdout",
          "text": [
            "5\n"
          ]
        }
      ]
    },
    {
      "cell_type": "code",
      "source": [
        "mm(292.3107)"
      ],
      "metadata": {
        "colab": {
          "base_uri": "https://localhost:8080/"
        },
        "id": "gKv9-XfYD5GD",
        "outputId": "119fcf46-7268-4dc4-c12d-d3581730b2f4"
      },
      "execution_count": 27,
      "outputs": [
        {
          "output_type": "stream",
          "name": "stdout",
          "text": [
            "292.3107\n"
          ]
        }
      ]
    },
    {
      "cell_type": "code",
      "source": [
        "L = [1,3,4,6,8,9,12,14]\n",
        "L2 =L\n",
        "L2[0]=-12\n",
        "print(L)"
      ],
      "metadata": {
        "colab": {
          "base_uri": "https://localhost:8080/"
        },
        "id": "uZ3kCAgVD5RB",
        "outputId": "5003388c-00a7-400e-ca11-2cc2d755d1d9"
      },
      "execution_count": 28,
      "outputs": [
        {
          "output_type": "stream",
          "name": "stdout",
          "text": [
            "[-12, 3, 4, 6, 8, 9, 12, 14]\n"
          ]
        }
      ]
    },
    {
      "cell_type": "code",
      "source": [
        "L = [1,3,4,6,8,9,12,14]\n",
        "L2 =L\n",
        "L2[5]=11\n",
        "print(L)"
      ],
      "metadata": {
        "colab": {
          "base_uri": "https://localhost:8080/"
        },
        "id": "jXCjWjokD5aJ",
        "outputId": "1cd80f2d-a43c-4ce3-ec31-924b0e752fdd"
      },
      "execution_count": 29,
      "outputs": [
        {
          "output_type": "stream",
          "name": "stdout",
          "text": [
            "[1, 3, 4, 6, 8, 11, 12, 14]\n"
          ]
        }
      ]
    },
    {
      "cell_type": "code",
      "source": [
        "def ff(L=[1,5,6,7,9,12]):\n",
        "    for i in L:\n",
        "        print(i)"
      ],
      "metadata": {
        "id": "Xq0672y6D5k6"
      },
      "execution_count": 30,
      "outputs": []
    },
    {
      "cell_type": "code",
      "source": [
        "L2 =[7,9,10,12,18]\n",
        "ff()"
      ],
      "metadata": {
        "colab": {
          "base_uri": "https://localhost:8080/"
        },
        "id": "G-bt_eHyD5vR",
        "outputId": "d9d0ee2c-ee80-48dd-afed-da8af82a2369"
      },
      "execution_count": 31,
      "outputs": [
        {
          "output_type": "stream",
          "name": "stdout",
          "text": [
            "1\n",
            "5\n",
            "6\n",
            "7\n",
            "9\n",
            "12\n"
          ]
        }
      ]
    },
    {
      "cell_type": "code",
      "source": [
        "ff(L2)"
      ],
      "metadata": {
        "colab": {
          "base_uri": "https://localhost:8080/"
        },
        "id": "ig3F3HIsD56k",
        "outputId": "b7214259-c461-4f0b-a158-f5b32bb5617b"
      },
      "execution_count": 32,
      "outputs": [
        {
          "output_type": "stream",
          "name": "stdout",
          "text": [
            "7\n",
            "9\n",
            "10\n",
            "12\n",
            "18\n"
          ]
        }
      ]
    }
  ]
}