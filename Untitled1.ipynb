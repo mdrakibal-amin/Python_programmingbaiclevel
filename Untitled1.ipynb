{
  "nbformat": 4,
  "nbformat_minor": 0,
  "metadata": {
    "colab": {
      "name": "Untitled1.ipynb",
      "provenance": [],
      "authorship_tag": "ABX9TyP6WTr37Vnu7jHxhwum/T7a",
      "include_colab_link": true
    },
    "kernelspec": {
      "name": "python3",
      "display_name": "Python 3"
    },
    "language_info": {
      "name": "python"
    }
  },
  "cells": [
    {
      "cell_type": "markdown",
      "metadata": {
        "id": "view-in-github",
        "colab_type": "text"
      },
      "source": [
        "<a href=\"https://colab.research.google.com/github/mdrakibal-amin/Python_programmingbaiclevel/blob/main/Untitled1.ipynb\" target=\"_parent\"><img src=\"https://colab.research.google.com/assets/colab-badge.svg\" alt=\"Open In Colab\"/></a>"
      ]
    },
    {
      "cell_type": "markdown",
      "source": [
        ""
      ],
      "metadata": {
        "id": "MpJND6s_2omq"
      }
    },
    {
      "cell_type": "code",
      "metadata": {
        "id": "RIWPsX04wuHz"
      },
      "source": [
        "a,b,c,d,e,f,g = 2,4,5,6,9.1,7.52,-81"
      ],
      "execution_count": null,
      "outputs": []
    },
    {
      "cell_type": "code",
      "source": [
        "% whos"
      ],
      "metadata": {
        "colab": {
          "base_uri": "https://localhost:8080/"
        },
        "id": "Ul8FND1E0IRp",
        "outputId": "b3a6ae85-f2e7-4a50-c7e2-49dfce00a7c0"
      },
      "execution_count": null,
      "outputs": [
        {
          "output_type": "stream",
          "name": "stdout",
          "text": [
            "Variable   Type     Data/Info\n",
            "-----------------------------\n",
            "a          int      2\n",
            "b          int      4\n",
            "c          int      5\n",
            "d          int      6\n",
            "e          float    9.1\n",
            "f          float    7.52\n",
            "g          int      -81\n"
          ]
        }
      ]
    },
    {
      "cell_type": "code",
      "source": [
        "ghuik = 456"
      ],
      "metadata": {
        "id": "geQEN6Jq0U4I"
      },
      "execution_count": null,
      "outputs": []
    },
    {
      "cell_type": "code",
      "source": [
        "%whos"
      ],
      "metadata": {
        "colab": {
          "base_uri": "https://localhost:8080/"
        },
        "id": "SHZeDf4z0i1Z",
        "outputId": "c9d42fd4-26ac-4698-e0f2-3ac36fe00105"
      },
      "execution_count": null,
      "outputs": [
        {
          "output_type": "stream",
          "name": "stdout",
          "text": [
            "Variable   Type     Data/Info\n",
            "-----------------------------\n",
            "a          int      2\n",
            "b          int      4\n",
            "c          int      5\n",
            "d          int      6\n",
            "e          float    9.1\n",
            "f          float    7.52\n",
            "g          int      -81\n",
            "ghuik      int      456\n"
          ]
        }
      ]
    },
    {
      "cell_type": "code",
      "source": [
        "print(type(ghuik))"
      ],
      "metadata": {
        "colab": {
          "base_uri": "https://localhost:8080/"
        },
        "id": "DNjDyXxh0ts6",
        "outputId": "a6a3fb34-56d0-46bd-de32-6241bcc57f3e"
      },
      "execution_count": null,
      "outputs": [
        {
          "output_type": "stream",
          "name": "stdout",
          "text": [
            "<class 'int'>\n"
          ]
        }
      ]
    },
    {
      "cell_type": "code",
      "source": [
        "m = 5+10j\n",
        "print(type(m))"
      ],
      "metadata": {
        "colab": {
          "base_uri": "https://localhost:8080/"
        },
        "id": "t4q92A_N08Gb",
        "outputId": "8206dfaa-a221-4691-d300-896e971f76c5"
      },
      "execution_count": null,
      "outputs": [
        {
          "output_type": "stream",
          "name": "stdout",
          "text": [
            "<class 'complex'>\n"
          ]
        }
      ]
    },
    {
      "cell_type": "code",
      "source": [
        "%whos"
      ],
      "metadata": {
        "colab": {
          "base_uri": "https://localhost:8080/"
        },
        "id": "v5Sadqm41Z4p",
        "outputId": "c019db85-e4a9-45e2-cdcf-ba9774519379"
      },
      "execution_count": null,
      "outputs": [
        {
          "output_type": "stream",
          "name": "stdout",
          "text": [
            "Variable   Type       Data/Info\n",
            "-------------------------------\n",
            "a          int        2\n",
            "b          int        4\n",
            "c          int        5\n",
            "d          int        6\n",
            "e          float      9.1\n",
            "f          float      7.52\n",
            "g          int        -81\n",
            "ghuik      int        456\n",
            "m          complex    (5+10j)\n"
          ]
        }
      ]
    },
    {
      "cell_type": "code",
      "source": [
        "del ghuik"
      ],
      "metadata": {
        "id": "EzMgGMC61vHP"
      },
      "execution_count": null,
      "outputs": []
    },
    {
      "cell_type": "code",
      "source": [
        "%whos"
      ],
      "metadata": {
        "colab": {
          "base_uri": "https://localhost:8080/"
        },
        "id": "3iybCi1219Vx",
        "outputId": "8bc037c9-7d0c-444e-ff66-fce249976726"
      },
      "execution_count": null,
      "outputs": [
        {
          "output_type": "stream",
          "name": "stdout",
          "text": [
            "Variable   Type       Data/Info\n",
            "-------------------------------\n",
            "a          int        2\n",
            "b          int        4\n",
            "c          int        5\n",
            "e          float      9.1\n",
            "f          float      7.52\n",
            "g          int        -81\n",
            "m          complex    (5+10j)\n"
          ]
        }
      ]
    },
    {
      "cell_type": "code",
      "source": [
        "d = \"Hi I am Sunny\"\n",
        "print(type(d))"
      ],
      "metadata": {
        "colab": {
          "base_uri": "https://localhost:8080/"
        },
        "id": "gu00aG3y2Ioi",
        "outputId": "4052bf29-3f87-4ad3-ef29-7ad021f5abae"
      },
      "execution_count": null,
      "outputs": [
        {
          "output_type": "stream",
          "name": "stdout",
          "text": [
            "<class 'str'>\n"
          ]
        }
      ]
    },
    {
      "cell_type": "code",
      "source": [
        "%whos"
      ],
      "metadata": {
        "colab": {
          "base_uri": "https://localhost:8080/"
        },
        "id": "inWtx3Oj2Xhq",
        "outputId": "c9858ba7-d687-4bd4-fcb2-e8ad133e54ca"
      },
      "execution_count": null,
      "outputs": [
        {
          "output_type": "stream",
          "name": "stdout",
          "text": [
            "Variable   Type       Data/Info\n",
            "-------------------------------\n",
            "a          int        2\n",
            "b          int        4\n",
            "c          int        5\n",
            "d          str        Hi I am Sunny\n",
            "e          float      9.1\n",
            "f          float      7.52\n",
            "g          int        -81\n",
            "m          complex    (5+10j)\n"
          ]
        }
      ]
    },
    {
      "cell_type": "markdown",
      "source": [
        ""
      ],
      "metadata": {
        "id": "5Y9ChkpR2xgI"
      }
    },
    {
      "cell_type": "markdown",
      "source": [
        "# ***Operator:***"
      ],
      "metadata": {
        "id": "NynU1tWc246Q"
      }
    },
    {
      "cell_type": "code",
      "source": [
        "%whos"
      ],
      "metadata": {
        "colab": {
          "base_uri": "https://localhost:8080/"
        },
        "id": "QaHa70Eb2--B",
        "outputId": "bb67620c-fa5e-4fea-d048-88dbe27ef32d"
      },
      "execution_count": null,
      "outputs": [
        {
          "output_type": "stream",
          "name": "stdout",
          "text": [
            "Variable   Type       Data/Info\n",
            "-------------------------------\n",
            "a          int        2\n",
            "b          int        4\n",
            "c          int        5\n",
            "d          str        Hi I am Sunny\n",
            "e          float      9.1\n",
            "f          float      7.52\n",
            "g          int        -81\n",
            "m          complex    (5+10j)\n"
          ]
        }
      ]
    },
    {
      "cell_type": "markdown",
      "source": [
        ""
      ],
      "metadata": {
        "id": "5dgfFY6D2vsr"
      }
    },
    {
      "cell_type": "code",
      "source": [
        "sumoffAndc = f+c\n"
      ],
      "metadata": {
        "id": "7pV9ClNX4LsI"
      },
      "execution_count": null,
      "outputs": []
    },
    {
      "cell_type": "code",
      "source": [
        "print(sumoffAndc)"
      ],
      "metadata": {
        "colab": {
          "base_uri": "https://localhost:8080/"
        },
        "id": "9R80oJnW5Gfy",
        "outputId": "adc067e6-ad1e-4d92-bb0e-efc7ab142561"
      },
      "execution_count": null,
      "outputs": [
        {
          "output_type": "stream",
          "name": "stdout",
          "text": [
            "12.52\n"
          ]
        }
      ]
    },
    {
      "cell_type": "code",
      "source": [
        "type(sumoffAndc)\n"
      ],
      "metadata": {
        "colab": {
          "base_uri": "https://localhost:8080/"
        },
        "id": "BLZ4dSHJ5Oh2",
        "outputId": "0b67205b-1896-4c42-f2b7-c5d290acc5d2"
      },
      "execution_count": null,
      "outputs": [
        {
          "output_type": "execute_result",
          "data": {
            "text/plain": [
              "float"
            ]
          },
          "metadata": {},
          "execution_count": 30
        }
      ]
    },
    {
      "cell_type": "code",
      "source": [
        "type(b+g)"
      ],
      "metadata": {
        "colab": {
          "base_uri": "https://localhost:8080/"
        },
        "id": "0Qec1yMX5uss",
        "outputId": "8f3eb7f9-0d0f-4878-8133-08d3248dc043"
      },
      "execution_count": null,
      "outputs": [
        {
          "output_type": "execute_result",
          "data": {
            "text/plain": [
              "int"
            ]
          },
          "metadata": {},
          "execution_count": 31
        }
      ]
    },
    {
      "cell_type": "code",
      "source": [
        "k =((b-e)**4)/12 "
      ],
      "metadata": {
        "id": "Auunwi2o59Eu"
      },
      "execution_count": null,
      "outputs": []
    },
    {
      "cell_type": "code",
      "source": [
        "print(k)\n",
        "print(type(k))"
      ],
      "metadata": {
        "colab": {
          "base_uri": "https://localhost:8080/"
        },
        "id": "DzoVOCPs6456",
        "outputId": "a8490fd8-faa3-4c21-d29f-583af9734972"
      },
      "execution_count": null,
      "outputs": [
        {
          "output_type": "stream",
          "name": "stdout",
          "text": [
            "56.376674999999985\n",
            "<class 'float'>\n"
          ]
        }
      ]
    },
    {
      "cell_type": "code",
      "source": [
        "16/5"
      ],
      "metadata": {
        "colab": {
          "base_uri": "https://localhost:8080/"
        },
        "id": "XSvVaxYc7EwM",
        "outputId": "547af37f-2b13-4bfb-905b-b410cb5de928"
      },
      "execution_count": null,
      "outputs": [
        {
          "output_type": "execute_result",
          "data": {
            "text/plain": [
              "3.2"
            ]
          },
          "metadata": {},
          "execution_count": 38
        }
      ]
    },
    {
      "cell_type": "code",
      "source": [
        "16//5"
      ],
      "metadata": {
        "colab": {
          "base_uri": "https://localhost:8080/"
        },
        "id": "agKO0-IV7FGn",
        "outputId": "8dd04f7c-0b6c-4148-e3e9-c1d84b3f63f7"
      },
      "execution_count": null,
      "outputs": [
        {
          "output_type": "execute_result",
          "data": {
            "text/plain": [
              "3"
            ]
          },
          "metadata": {},
          "execution_count": 39
        }
      ]
    },
    {
      "cell_type": "code",
      "source": [
        "9%5"
      ],
      "metadata": {
        "colab": {
          "base_uri": "https://localhost:8080/"
        },
        "id": "dEoyRjNN7FQf",
        "outputId": "4c06f268-560a-4d68-e9ce-c7b8960308c5"
      },
      "execution_count": null,
      "outputs": [
        {
          "output_type": "execute_result",
          "data": {
            "text/plain": [
              "4"
            ]
          },
          "metadata": {},
          "execution_count": 40
        }
      ]
    },
    {
      "cell_type": "code",
      "source": [
        "*q = 3"
      ],
      "metadata": {
        "colab": {
          "base_uri": "https://localhost:8080/",
          "height": 134
        },
        "id": "Ej-HFugx7FZ3",
        "outputId": "b9cd6ca7-aa2b-4292-9831-48524224e6cc"
      },
      "execution_count": null,
      "outputs": [
        {
          "output_type": "error",
          "ename": "SyntaxError",
          "evalue": "ignored",
          "traceback": [
            "\u001b[0;36m  File \u001b[0;32m\"<ipython-input-43-f4c09d67451e>\"\u001b[0;36m, line \u001b[0;32m1\u001b[0m\n\u001b[0;31m    *q = 3\u001b[0m\n\u001b[0m          ^\u001b[0m\n\u001b[0;31mSyntaxError\u001b[0m\u001b[0;31m:\u001b[0m starred assignment target must be in a list or tuple\n"
          ]
        }
      ]
    },
    {
      "cell_type": "code",
      "source": [
        "startingTimeofTheCourse = 3.0"
      ],
      "metadata": {
        "id": "9fLSsW_R7ynL"
      },
      "execution_count": null,
      "outputs": []
    },
    {
      "cell_type": "code",
      "source": [
        "%whos"
      ],
      "metadata": {
        "colab": {
          "base_uri": "https://localhost:8080/"
        },
        "id": "dQuEDPiJ79TC",
        "outputId": "f25466a8-220c-48d5-ee38-a6757fedab1f"
      },
      "execution_count": null,
      "outputs": [
        {
          "output_type": "stream",
          "name": "stdout",
          "text": [
            "Variable                  Type       Data/Info\n",
            "----------------------------------------------\n",
            "a                         int        2\n",
            "b                         int        4\n",
            "c                         int        5\n",
            "d                         str        Hi I am Sunny\n",
            "e                         float      9.1\n",
            "f                         float      7.52\n",
            "g                         int        -81\n",
            "k                         float      56.376674999999985\n",
            "m                         complex    (5+10j)\n",
            "startingTimeofTheCourse   float      3.0\n",
            "sumoffAndc                float      12.52\n"
          ]
        }
      ]
    },
    {
      "cell_type": "markdown",
      "source": [
        "# ***Boolean :*** ***bold text***"
      ],
      "metadata": {
        "id": "yDlJcXLW86ai"
      }
    },
    {
      "cell_type": "code",
      "source": [
        "i = False\n",
        "j = True\n",
        "l = False"
      ],
      "metadata": {
        "id": "LNXPUXcv8PZx"
      },
      "execution_count": null,
      "outputs": []
    },
    {
      "cell_type": "code",
      "source": [
        "%whos"
      ],
      "metadata": {
        "colab": {
          "base_uri": "https://localhost:8080/"
        },
        "id": "HyjTyWsc8clx",
        "outputId": "e8f4a949-b98b-459b-af43-fdbd24fd5bcc"
      },
      "execution_count": null,
      "outputs": [
        {
          "output_type": "stream",
          "name": "stdout",
          "text": [
            "Variable                  Type       Data/Info\n",
            "----------------------------------------------\n",
            "a                         int        2\n",
            "b                         int        4\n",
            "c                         int        5\n",
            "d                         str        Hi I am Sunny\n",
            "e                         float      9.1\n",
            "f                         float      7.52\n",
            "g                         int        -81\n",
            "i                         bool       False\n",
            "j                         bool       True\n",
            "k                         float      56.376674999999985\n",
            "l                         bool       False\n",
            "m                         complex    (5+10j)\n",
            "startingTimeofTheCourse   float      3.0\n",
            "sumoffAndc                float      12.52\n"
          ]
        }
      ]
    },
    {
      "cell_type": "code",
      "source": [
        "print( i and j)\n",
        "print(j and l)\n",
        "print(i and l)\n",
        "print(l and i)\n",
        "print(j and i)"
      ],
      "metadata": {
        "colab": {
          "base_uri": "https://localhost:8080/"
        },
        "id": "jiLnRVYP8czB",
        "outputId": "1021cf46-9200-4d7b-8529-fde74281c012"
      },
      "execution_count": null,
      "outputs": [
        {
          "output_type": "stream",
          "name": "stdout",
          "text": [
            "False\n",
            "False\n",
            "False\n",
            "False\n",
            "False\n"
          ]
        }
      ]
    },
    {
      "cell_type": "code",
      "source": [
        "not(i)"
      ],
      "metadata": {
        "colab": {
          "base_uri": "https://localhost:8080/"
        },
        "id": "b7EekvAD8c7o",
        "outputId": "9e4021b1-f3d9-44ac-9c23-533c41bd4b73"
      },
      "execution_count": null,
      "outputs": [
        {
          "output_type": "execute_result",
          "data": {
            "text/plain": [
              "True"
            ]
          },
          "metadata": {},
          "execution_count": 49
        }
      ]
    },
    {
      "cell_type": "code",
      "source": [
        "not(j)"
      ],
      "metadata": {
        "colab": {
          "base_uri": "https://localhost:8080/"
        },
        "id": "w5c_4fTb8dHD",
        "outputId": "6c5fbf7d-8a8e-4931-ea7c-5b7bd88678a0"
      },
      "execution_count": null,
      "outputs": [
        {
          "output_type": "execute_result",
          "data": {
            "text/plain": [
              "False"
            ]
          },
          "metadata": {},
          "execution_count": 50
        }
      ]
    },
    {
      "cell_type": "code",
      "source": [
        "not(l)"
      ],
      "metadata": {
        "colab": {
          "base_uri": "https://localhost:8080/"
        },
        "id": "MBfta0Ur8dWr",
        "outputId": "c9834e89-3b3f-45a0-e2b7-1b1dc41bb5c4"
      },
      "execution_count": null,
      "outputs": [
        {
          "output_type": "execute_result",
          "data": {
            "text/plain": [
              "True"
            ]
          },
          "metadata": {},
          "execution_count": 51
        }
      ]
    },
    {
      "cell_type": "code",
      "source": [
        "h1 = j or l\n",
        "print(h1)\n",
        "h2 = i or l\n",
        "print(h2)"
      ],
      "metadata": {
        "colab": {
          "base_uri": "https://localhost:8080/"
        },
        "id": "xEaQ9vs39to0",
        "outputId": "f88ff560-6ff7-415f-94f1-22cc1b1cc7f0"
      },
      "execution_count": null,
      "outputs": [
        {
          "output_type": "stream",
          "name": "stdout",
          "text": [
            "True\n",
            "False\n"
          ]
        }
      ]
    },
    {
      "cell_type": "code",
      "source": [
        "f1 = not(h1)\n",
        "type(f1)\n",
        "print(f1)"
      ],
      "metadata": {
        "colab": {
          "base_uri": "https://localhost:8080/"
        },
        "id": "v3cNgF7l9uBo",
        "outputId": "8b956d16-acfb-4d87-a89c-f92721a0405c"
      },
      "execution_count": null,
      "outputs": [
        {
          "output_type": "stream",
          "name": "stdout",
          "text": [
            "False\n"
          ]
        }
      ]
    },
    {
      "cell_type": "code",
      "source": [
        "f1 = not(h1)\n",
        "type(f1)"
      ],
      "metadata": {
        "colab": {
          "base_uri": "https://localhost:8080/"
        },
        "id": "zUY1c3569uOn",
        "outputId": "3eacd606-7eb9-4f50-a321-b43e83766f58"
      },
      "execution_count": null,
      "outputs": [
        {
          "output_type": "execute_result",
          "data": {
            "text/plain": [
              "bool"
            ]
          },
          "metadata": {},
          "execution_count": 54
        }
      ]
    },
    {
      "cell_type": "code",
      "source": [
        "f2 = not(h2)\n",
        "type(f2)"
      ],
      "metadata": {
        "colab": {
          "base_uri": "https://localhost:8080/"
        },
        "id": "s9lFCxx-9ul_",
        "outputId": "79c53fd5-c8ea-4238-fec9-b61f889a10f3"
      },
      "execution_count": null,
      "outputs": [
        {
          "output_type": "execute_result",
          "data": {
            "text/plain": [
              "bool"
            ]
          },
          "metadata": {},
          "execution_count": 55
        }
      ]
    },
    {
      "cell_type": "code",
      "source": [
        "%whos"
      ],
      "metadata": {
        "colab": {
          "base_uri": "https://localhost:8080/"
        },
        "id": "zah0FlWW9u00",
        "outputId": "032a74f1-2f72-43b9-cfa2-ab52526611f2"
      },
      "execution_count": null,
      "outputs": [
        {
          "output_type": "stream",
          "name": "stdout",
          "text": [
            "Variable                  Type       Data/Info\n",
            "----------------------------------------------\n",
            "a                         int        2\n",
            "b                         int        4\n",
            "c                         int        5\n",
            "d                         str        Hi I am Sunny\n",
            "e                         float      9.1\n",
            "f                         float      7.52\n",
            "f1                        bool       False\n",
            "f2                        bool       True\n",
            "g                         int        -81\n",
            "h1                        bool       True\n",
            "h2                        bool       False\n",
            "i                         bool       False\n",
            "j                         bool       True\n",
            "k                         float      56.376674999999985\n",
            "l                         bool       False\n",
            "m                         complex    (5+10j)\n",
            "startingTimeofTheCourse   float      3.0\n",
            "sumoffAndc                float      12.52\n"
          ]
        }
      ]
    },
    {
      "cell_type": "markdown",
      "source": [
        "# ***Comparisons***\n",
        "\n",
        "**bold text**\n",
        "\n"
      ],
      "metadata": {
        "id": "jcA7rxPn_SuD"
      }
    },
    {
      "cell_type": "code",
      "source": [
        "print(5<8)"
      ],
      "metadata": {
        "colab": {
          "base_uri": "https://localhost:8080/"
        },
        "id": "Y7YK7yg59vaE",
        "outputId": "e445e389-c985-446d-f01b-dfb90267b415"
      },
      "execution_count": null,
      "outputs": [
        {
          "output_type": "stream",
          "name": "stdout",
          "text": [
            "True\n"
          ]
        }
      ]
    },
    {
      "cell_type": "code",
      "source": [
        "print(6>12)"
      ],
      "metadata": {
        "colab": {
          "base_uri": "https://localhost:8080/"
        },
        "id": "iFnJbEKn9vlP",
        "outputId": "7718c5bf-de59-4049-e0ca-d572ca5f9d0a"
      },
      "execution_count": null,
      "outputs": [
        {
          "output_type": "stream",
          "name": "stdout",
          "text": [
            "False\n"
          ]
        }
      ]
    },
    {
      "cell_type": "code",
      "source": [
        "n = 1>0\n",
        "print(type(n))\n",
        "print(n)"
      ],
      "metadata": {
        "colab": {
          "base_uri": "https://localhost:8080/"
        },
        "id": "VgvJU7cZ9wNU",
        "outputId": "aeab9855-c199-4865-98b1-7125f775cfd1"
      },
      "execution_count": null,
      "outputs": [
        {
          "output_type": "stream",
          "name": "stdout",
          "text": [
            "<class 'bool'>\n",
            "True\n"
          ]
        }
      ]
    },
    {
      "cell_type": "code",
      "source": [
        "t = 5 ==9\n",
        "print(type(t))\n",
        "print(t)"
      ],
      "metadata": {
        "colab": {
          "base_uri": "https://localhost:8080/"
        },
        "id": "s6r4yxv-AMr8",
        "outputId": "a5a7d655-4d91-402d-e4bb-f955b6db9b6e"
      },
      "execution_count": null,
      "outputs": [
        {
          "output_type": "stream",
          "name": "stdout",
          "text": [
            "<class 'bool'>\n",
            "False\n"
          ]
        }
      ]
    },
    {
      "cell_type": "code",
      "source": [
        "6==6.0"
      ],
      "metadata": {
        "colab": {
          "base_uri": "https://localhost:8080/"
        },
        "id": "_6aanR8FANCY",
        "outputId": "72f987a9-7b82-4c1d-a61d-3019b9592fb3"
      },
      "execution_count": null,
      "outputs": [
        {
          "output_type": "execute_result",
          "data": {
            "text/plain": [
              "True"
            ]
          },
          "metadata": {},
          "execution_count": 61
        }
      ]
    },
    {
      "cell_type": "code",
      "source": [
        "0.100==0.101"
      ],
      "metadata": {
        "colab": {
          "base_uri": "https://localhost:8080/"
        },
        "id": "nnZbkCjwANmA",
        "outputId": "5050f837-e587-4ed3-eb13-54f75314c7ab"
      },
      "execution_count": null,
      "outputs": [
        {
          "output_type": "execute_result",
          "data": {
            "text/plain": [
              "False"
            ]
          },
          "metadata": {},
          "execution_count": 62
        }
      ]
    },
    {
      "cell_type": "code",
      "source": [
        "s=3\n",
        "t=6\n",
        "p=-9.2\n",
        "q=-3\n",
        "l=2"
      ],
      "metadata": {
        "id": "fW_yyGkS8doP"
      },
      "execution_count": null,
      "outputs": []
    },
    {
      "cell_type": "code",
      "source": [
        "(s<l) or (p>t) and (q<s)"
      ],
      "metadata": {
        "colab": {
          "base_uri": "https://localhost:8080/"
        },
        "id": "wlkBB7uKA3WM",
        "outputId": "840f925a-7e69-490f-af8e-7db646982e7b"
      },
      "execution_count": null,
      "outputs": [
        {
          "output_type": "execute_result",
          "data": {
            "text/plain": [
              "False"
            ]
          },
          "metadata": {},
          "execution_count": 64
        }
      ]
    },
    {
      "cell_type": "code",
      "source": [
        "(l<q) and (t>p) or (t!=s)"
      ],
      "metadata": {
        "colab": {
          "base_uri": "https://localhost:8080/"
        },
        "id": "3oVUBkOMA3ox",
        "outputId": "6d978a2a-8235-4ede-fa31-a9039fc6c163"
      },
      "execution_count": null,
      "outputs": [
        {
          "output_type": "execute_result",
          "data": {
            "text/plain": [
              "True"
            ]
          },
          "metadata": {},
          "execution_count": 65
        }
      ]
    },
    {
      "cell_type": "code",
      "source": [
        "True or False  and True"
      ],
      "metadata": {
        "colab": {
          "base_uri": "https://localhost:8080/"
        },
        "id": "XctsvRoIBkUC",
        "outputId": "73d3d7de-3e4a-4fe3-8683-476e06514606"
      },
      "execution_count": null,
      "outputs": [
        {
          "output_type": "execute_result",
          "data": {
            "text/plain": [
              "True"
            ]
          },
          "metadata": {},
          "execution_count": 66
        }
      ]
    },
    {
      "cell_type": "code",
      "source": [
        "False or False  and True"
      ],
      "metadata": {
        "colab": {
          "base_uri": "https://localhost:8080/"
        },
        "id": "G-YTfViEBkmr",
        "outputId": "9580c57b-0a20-4d69-91e6-45d16991fdd4"
      },
      "execution_count": null,
      "outputs": [
        {
          "output_type": "execute_result",
          "data": {
            "text/plain": [
              "False"
            ]
          },
          "metadata": {},
          "execution_count": 67
        }
      ]
    },
    {
      "cell_type": "code",
      "source": [
        "True and False  or False"
      ],
      "metadata": {
        "colab": {
          "base_uri": "https://localhost:8080/"
        },
        "id": "d8V3vSK_BlCC",
        "outputId": "61cbf0de-777e-461c-ff16-dd8afacb97dd"
      },
      "execution_count": null,
      "outputs": [
        {
          "output_type": "execute_result",
          "data": {
            "text/plain": [
              "False"
            ]
          },
          "metadata": {},
          "execution_count": 68
        }
      ]
    },
    {
      "cell_type": "code",
      "source": [
        "False and False or True"
      ],
      "metadata": {
        "colab": {
          "base_uri": "https://localhost:8080/"
        },
        "id": "l8uOAKm0BlSr",
        "outputId": "16e5bc60-c265-475f-edad-1b3969275ae3"
      },
      "execution_count": null,
      "outputs": [
        {
          "output_type": "execute_result",
          "data": {
            "text/plain": [
              "True"
            ]
          },
          "metadata": {},
          "execution_count": 69
        }
      ]
    },
    {
      "cell_type": "code",
      "source": [
        "( True or False) and False"
      ],
      "metadata": {
        "colab": {
          "base_uri": "https://localhost:8080/"
        },
        "id": "1DCa4vEfBlxq",
        "outputId": "0b463292-49c5-4ca7-b4b5-91e2027d9c0f"
      },
      "execution_count": null,
      "outputs": [
        {
          "output_type": "execute_result",
          "data": {
            "text/plain": [
              "False"
            ]
          },
          "metadata": {},
          "execution_count": 70
        }
      ]
    },
    {
      "cell_type": "code",
      "source": [
        "(False or False) and  True"
      ],
      "metadata": {
        "colab": {
          "base_uri": "https://localhost:8080/"
        },
        "id": "sFBUkGboA30g",
        "outputId": "f426183f-b232-4921-8c2b-c5ccbd6933ee"
      },
      "execution_count": null,
      "outputs": [
        {
          "output_type": "execute_result",
          "data": {
            "text/plain": [
              "False"
            ]
          },
          "metadata": {},
          "execution_count": 71
        }
      ]
    },
    {
      "cell_type": "code",
      "source": [
        "(True and False) or False"
      ],
      "metadata": {
        "colab": {
          "base_uri": "https://localhost:8080/"
        },
        "id": "CNPcM0wXA4Ez",
        "outputId": "162ee429-d3c6-4c1a-ccb9-16906355b7aa"
      },
      "execution_count": null,
      "outputs": [
        {
          "output_type": "execute_result",
          "data": {
            "text/plain": [
              "False"
            ]
          },
          "metadata": {},
          "execution_count": 72
        }
      ]
    },
    {
      "cell_type": "code",
      "source": [
        "(False and False) or True"
      ],
      "metadata": {
        "colab": {
          "base_uri": "https://localhost:8080/"
        },
        "id": "xgR99oDVA4XV",
        "outputId": "3e348892-f899-4e69-e086-b8d410f8ae36"
      },
      "execution_count": null,
      "outputs": [
        {
          "output_type": "execute_result",
          "data": {
            "text/plain": [
              "True"
            ]
          },
          "metadata": {},
          "execution_count": 73
        }
      ]
    },
    {
      "cell_type": "code",
      "source": [
        "(True and True)   or False"
      ],
      "metadata": {
        "colab": {
          "base_uri": "https://localhost:8080/"
        },
        "id": "f7DKPStg8eLY",
        "outputId": "36e31f92-0976-4e20-fd9c-f71092e20240"
      },
      "execution_count": null,
      "outputs": [
        {
          "output_type": "execute_result",
          "data": {
            "text/plain": [
              "True"
            ]
          },
          "metadata": {},
          "execution_count": 74
        }
      ]
    },
    {
      "cell_type": "code",
      "source": [
        "(True or True) and False"
      ],
      "metadata": {
        "colab": {
          "base_uri": "https://localhost:8080/"
        },
        "id": "aOmxqRE-DsNy",
        "outputId": "62ee4d50-e602-437e-ab93-05e58f6fa52d"
      },
      "execution_count": null,
      "outputs": [
        {
          "output_type": "execute_result",
          "data": {
            "text/plain": [
              "False"
            ]
          },
          "metadata": {},
          "execution_count": 75
        }
      ]
    },
    {
      "cell_type": "code",
      "source": [
        "print((not(2!=3)and True)or (False and True))"
      ],
      "metadata": {
        "colab": {
          "base_uri": "https://localhost:8080/"
        },
        "id": "sPkRCZOXD4aK",
        "outputId": "115b7a4b-2481-4682-8a6c-4ab8f0c7356d"
      },
      "execution_count": null,
      "outputs": [
        {
          "output_type": "stream",
          "name": "stdout",
          "text": [
            "False\n"
          ]
        }
      ]
    }
  ]
}