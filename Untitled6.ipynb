{
  "nbformat": 4,
  "nbformat_minor": 0,
  "metadata": {
    "colab": {
      "name": "Untitled6.ipynb",
      "provenance": [],
      "authorship_tag": "ABX9TyP1MREmG2q2vyddY3FuXupg",
      "include_colab_link": true
    },
    "kernelspec": {
      "name": "python3",
      "display_name": "Python 3"
    },
    "language_info": {
      "name": "python"
    }
  },
  "cells": [
    {
      "cell_type": "markdown",
      "metadata": {
        "id": "view-in-github",
        "colab_type": "text"
      },
      "source": [
        "<a href=\"https://colab.research.google.com/github/mdrakibal-amin/Python_programmingbaiclevel/blob/main/Untitled6.ipynb\" target=\"_parent\"><img src=\"https://colab.research.google.com/assets/colab-badge.svg\" alt=\"Open In Colab\"/></a>"
      ]
    },
    {
      "cell_type": "markdown",
      "source": [
        ""
      ],
      "metadata": {
        "id": "uBr4P03FyBKF"
      }
    },
    {
      "cell_type": "markdown",
      "source": [
        "# ***Control flow in Python (If else Condition)***"
      ],
      "metadata": {
        "id": "mP2oW5sTzlhf"
      }
    },
    {
      "cell_type": "code",
      "source": [
        "m = int(input())\n",
        "n = int(input())\n",
        "if m>n:\n",
        "   print(m)\n",
        "   print(\"I am inside if condition\")\n",
        "print(\"I am outside the if condition\")"
      ],
      "metadata": {
        "colab": {
          "base_uri": "https://localhost:8080/"
        },
        "id": "OSZIOip_zxtd",
        "outputId": "15dadf5b-8266-4a9a-84f1-9d3095e81a24"
      },
      "execution_count": null,
      "outputs": [
        {
          "output_type": "stream",
          "name": "stdout",
          "text": [
            "20\n",
            "24\n",
            "I am outside the if condition\n"
          ]
        }
      ]
    },
    {
      "cell_type": "code",
      "source": [
        "m = int(input())\n",
        "n = int(input())\n",
        "if m>n:\n",
        "   print(m)\n",
        "   print(\"I am inside if condition\")\n",
        "print(\"I am outside the if condition\")"
      ],
      "metadata": {
        "colab": {
          "base_uri": "https://localhost:8080/"
        },
        "id": "xeGkFCFP1dgN",
        "outputId": "1d867d2d-6877-4838-9130-68c729006b95"
      },
      "execution_count": null,
      "outputs": [
        {
          "output_type": "stream",
          "name": "stdout",
          "text": [
            "13\n",
            "8\n",
            "13\n",
            "I am inside if condition\n",
            "I am outside the if condition\n"
          ]
        }
      ]
    },
    {
      "cell_type": "code",
      "source": [
        "k = int(input())\n",
        "l = int(input())\n",
        "if k>l:\n",
        "  print(k)\n",
        "if l>k:\n",
        "  print(l)"
      ],
      "metadata": {
        "colab": {
          "base_uri": "https://localhost:8080/"
        },
        "id": "Ge_DOpDj1zP1",
        "outputId": "d3de99b9-626d-4d3f-cbcb-9fab407f9e00"
      },
      "execution_count": null,
      "outputs": [
        {
          "output_type": "stream",
          "name": "stdout",
          "text": [
            "7\n",
            "9\n",
            "9\n"
          ]
        }
      ]
    },
    {
      "cell_type": "code",
      "source": [
        "k = int(input())\n",
        "l = int(input())\n",
        "if k>l:\n",
        "  print(k)\n",
        "if l>k:\n",
        "  print(l)"
      ],
      "metadata": {
        "colab": {
          "base_uri": "https://localhost:8080/"
        },
        "id": "GEA0JSfX1z-P",
        "outputId": "d2498109-01da-4cb7-beea-275637a4c5ba"
      },
      "execution_count": null,
      "outputs": [
        {
          "output_type": "stream",
          "name": "stdout",
          "text": [
            "12\n",
            "4\n",
            "12\n"
          ]
        }
      ]
    },
    {
      "cell_type": "code",
      "source": [
        "d = int(input())\n",
        "e = int(input())\n",
        "if d>e:\n",
        "  print(\" d is greater than e\")\n",
        "else:\n",
        "  print(\" e is greater than d\")"
      ],
      "metadata": {
        "colab": {
          "base_uri": "https://localhost:8080/"
        },
        "id": "9E-oeq374J-m",
        "outputId": "0b214a1f-4c5b-4d7f-e349-eed83e0180ee"
      },
      "execution_count": null,
      "outputs": [
        {
          "output_type": "stream",
          "name": "stdout",
          "text": [
            "99\n",
            "77\n",
            " d is greater than e\n"
          ]
        }
      ]
    },
    {
      "cell_type": "code",
      "source": [
        "d = int(input())\n",
        "e = int(input())\n",
        "if d>e:\n",
        "  print(\" d is greater than e\")\n",
        "else:\n",
        "  print(\" e is greater than d\")"
      ],
      "metadata": {
        "colab": {
          "base_uri": "https://localhost:8080/"
        },
        "id": "M0tuzFhW4KM9",
        "outputId": "e89c4a60-7c1f-42f7-bede-e56dfba6a0a9"
      },
      "execution_count": null,
      "outputs": [
        {
          "output_type": "stream",
          "name": "stdout",
          "text": [
            "5\n",
            "12\n",
            " e is greater than d\n"
          ]
        }
      ]
    },
    {
      "cell_type": "code",
      "source": [
        "d = int(input())\n",
        "e = int(input())\n",
        "if d>e:\n",
        "  print(d)\n",
        "  print(\"if part\")\n",
        "else:\n",
        "  print(e)\n",
        "  print(\" else part\")"
      ],
      "metadata": {
        "colab": {
          "base_uri": "https://localhost:8080/"
        },
        "id": "vqE7qwR44Kbk",
        "outputId": "99a7ca6b-adcd-4d94-e4a2-e21857e4aa02"
      },
      "execution_count": null,
      "outputs": [
        {
          "output_type": "stream",
          "name": "stdout",
          "text": [
            "5\n",
            "10\n",
            "10\n",
            " else part\n"
          ]
        }
      ]
    },
    {
      "cell_type": "code",
      "source": [
        "d = int(input())\n",
        "e = int(input())\n",
        "if d>e:\n",
        "  print(d)\n",
        "  print(\"if part\")\n",
        "else:\n",
        "  print(e)\n",
        "  print(\" else part\")"
      ],
      "metadata": {
        "colab": {
          "base_uri": "https://localhost:8080/"
        },
        "id": "yzivLvtw4Kq5",
        "outputId": "956114b4-5101-4c88-bb8d-9997f6e9091e"
      },
      "execution_count": null,
      "outputs": [
        {
          "output_type": "stream",
          "name": "stdout",
          "text": [
            "17\n",
            "6\n",
            "17\n",
            "if part\n"
          ]
        }
      ]
    },
    {
      "cell_type": "code",
      "source": [
        "d = int(input())\n",
        "e = int(input())\n",
        "if d>e:\n",
        "  print(d)\n",
        "  print(\"if part\")\n",
        "else:\n",
        "  print(e)\n",
        "  print(\" else part\")"
      ],
      "metadata": {
        "colab": {
          "base_uri": "https://localhost:8080/"
        },
        "id": "owIECe2f4K40",
        "outputId": "86817b74-aead-420e-c786-fe4bf781890e"
      },
      "execution_count": null,
      "outputs": [
        {
          "output_type": "stream",
          "name": "stdout",
          "text": [
            "19\n",
            "19\n",
            "19\n",
            " else part\n"
          ]
        }
      ]
    },
    {
      "cell_type": "code",
      "source": [
        "s = float(input(\"Enter your first number: \"))\n",
        "t = float(input(\"Enter your second number: \"))\n",
        "if s>t:\n",
        "  print(\"s is greater than t\")\n",
        "elif s==t:\n",
        "  print(\"s and t are equal\")\n",
        "else:\n",
        "  print(\"t is greater than s\")\n",
        "\n"
      ],
      "metadata": {
        "colab": {
          "base_uri": "https://localhost:8080/"
        },
        "id": "DpY0jFRr10LU",
        "outputId": "0f166538-24b4-46d6-87e6-ec54e285c2de"
      },
      "execution_count": null,
      "outputs": [
        {
          "output_type": "stream",
          "name": "stdout",
          "text": [
            "Enter your first number: 56.00987\n",
            "Enter your second number: 34.567\n",
            "s is greater than t\n"
          ]
        }
      ]
    },
    {
      "cell_type": "code",
      "source": [
        "s = float(input(\"Enter your first number: \"))\n",
        "t = float(input(\"Enter your second number: \"))\n",
        "if s>t:\n",
        "  print(\"s is greater than t\")\n",
        "elif s==t:\n",
        "  print(\"s and t are equal\")\n",
        "else:\n",
        "  print(\"t is greater than s\")\n"
      ],
      "metadata": {
        "colab": {
          "base_uri": "https://localhost:8080/"
        },
        "id": "gWVzXMgA10de",
        "outputId": "44b1dc64-142d-480f-eb49-47a1c450aec2"
      },
      "execution_count": null,
      "outputs": [
        {
          "output_type": "stream",
          "name": "stdout",
          "text": [
            "Enter your first number: 23.0067\n",
            "Enter your second number: 87.123\n",
            "t is greater than s\n"
          ]
        }
      ]
    },
    {
      "cell_type": "code",
      "source": [
        "s = float(input(\"Enter your first number: \"))\n",
        "t = float(input(\"Enter your second number: \"))\n",
        "if s>t:\n",
        "  print(\"s is greater than t\")\n",
        "elif s==t:\n",
        "  print(\"s and t are equal\")\n",
        "else:\n",
        "  print(\"t is greater than s\")\n"
      ],
      "metadata": {
        "colab": {
          "base_uri": "https://localhost:8080/"
        },
        "id": "-hrfEben-jxw",
        "outputId": "6f10fcd1-19c3-4be2-ce51-56786945b847"
      },
      "execution_count": null,
      "outputs": [
        {
          "output_type": "stream",
          "name": "stdout",
          "text": [
            "Enter your first number: 14.0081\n",
            "Enter your second number: 14.0081\n",
            "s and t are equal\n"
          ]
        }
      ]
    },
    {
      "cell_type": "code",
      "source": [
        "a=1\n",
        "b=5\n",
        "if a==b:\n",
        "  print(\"Equal\")\n",
        "elif a>b:\n",
        "  print(\"A\")\n",
        "else:\n",
        "    print(\"B\")\n",
        "print(\"not in if\")"
      ],
      "metadata": {
        "colab": {
          "base_uri": "https://localhost:8080/"
        },
        "id": "hQYofElP-j7M",
        "outputId": "c331f583-95b1-4bc9-d53c-aa411318c1de"
      },
      "execution_count": null,
      "outputs": [
        {
          "output_type": "stream",
          "name": "stdout",
          "text": [
            "B\n",
            "not in if\n"
          ]
        }
      ]
    },
    {
      "cell_type": "code",
      "source": [
        "a=10\n",
        "b=5\n",
        "if a==b:\n",
        "  print(\"Equal\")\n",
        "elif a>b:\n",
        "  print(\"A\")\n",
        "else:\n",
        "    print(\"B\")\n",
        "print(\"not in if\")"
      ],
      "metadata": {
        "colab": {
          "base_uri": "https://localhost:8080/"
        },
        "id": "Gv8V3yntAwk3",
        "outputId": "85424a16-0328-4bba-c429-ce9ddb10c0a3"
      },
      "execution_count": null,
      "outputs": [
        {
          "output_type": "stream",
          "name": "stdout",
          "text": [
            "A\n",
            "not in if\n"
          ]
        }
      ]
    },
    {
      "cell_type": "code",
      "source": [
        "a=10\n",
        "b=10\n",
        "if a==b:\n",
        "  print(\"Equal\")\n",
        "elif a>b:\n",
        "  print(\"A\")\n",
        "else:\n",
        "    print(\"B\")\n",
        "print(\"not in if\")"
      ],
      "metadata": {
        "colab": {
          "base_uri": "https://localhost:8080/"
        },
        "id": "aOnM-2zhAwzW",
        "outputId": "f51639cd-9ded-417f-bcf0-1962a5b68a4b"
      },
      "execution_count": null,
      "outputs": [
        {
          "output_type": "stream",
          "name": "stdout",
          "text": [
            "Equal\n",
            "not in if\n"
          ]
        }
      ]
    },
    {
      "cell_type": "code",
      "source": [
        "a = int(input(\"Enter Marks :\"))\n",
        "if a>=80:\n",
        "    print(\"A+ Grade\")\n",
        "elif (a<80) and (a>=75):\n",
        "    print(\"A Grade\")\n",
        "elif (a<75) and (a>=70):\n",
        "    print(\"A- Grade\")\n",
        "elif (a<70) and (a>=65):\n",
        "    print(\"B+ Grade\")\n",
        "elif (a<65) and (a>=60):\n",
        "    print(\"B Grade\")\n",
        "elif (a<60) and (a>=55):\n",
        "    print(\"B- Grade\")\n",
        "elif (a<55) and (a>=50):\n",
        "    print(\"C+ Grade\")\n",
        "elif (a<50) and (a>=45):\n",
        "    print(\"C Grade\")\n",
        "elif (a<45) and (a>=40):\n",
        "    print(\"D Grade\")\n",
        "else:\n",
        "     print(\" F Grade\")\n"
      ],
      "metadata": {
        "colab": {
          "base_uri": "https://localhost:8080/"
        },
        "id": "XbBn8rjmAw81",
        "outputId": "a9d71bbb-2d52-42e1-df33-f6e62b4cd31d"
      },
      "execution_count": null,
      "outputs": [
        {
          "output_type": "stream",
          "name": "stdout",
          "text": [
            "Enter Marks :30\n",
            " F Grade\n"
          ]
        }
      ]
    },
    {
      "cell_type": "code",
      "source": [
        "a = int(input(\"Enter Marks :\"))\n",
        "if a>=80:\n",
        "    print(\"A+ Grade\")\n",
        "elif (a<80) and (a>=75):\n",
        "    print(\"A Grade\")\n",
        "elif (a<75) and (a>=70):\n",
        "    print(\"A- Grade\")\n",
        "elif (a<70) and (a>=65):\n",
        "    print(\"B+ Grade\")\n",
        "elif (a<65) and (a>=60):\n",
        "    print(\"B Grade\")\n",
        "elif (a<60) and (a>=55):\n",
        "    print(\"B- Grade\")\n",
        "elif (a<55) and (a>=50):\n",
        "    print(\"C+ Grade\")\n",
        "elif (a<50) and (a>=45):\n",
        "    print(\"C Grade\")\n",
        "elif (a<45) and (a>=40):\n",
        "    print(\"D Grade\")\n",
        "else:\n",
        "     print(\" F Grade\")\n"
      ],
      "metadata": {
        "colab": {
          "base_uri": "https://localhost:8080/"
        },
        "id": "heBLpQg1H6QX",
        "outputId": "c5dbfc34-c3f7-48bc-8bac-9e54f8e9ebb1"
      },
      "execution_count": null,
      "outputs": [
        {
          "output_type": "stream",
          "name": "stdout",
          "text": [
            "Enter Marks :72\n",
            "A- Grade\n"
          ]
        }
      ]
    },
    {
      "cell_type": "code",
      "source": [
        "n =5\n",
        "if 5>12:\n",
        "  print(\">12\")\n",
        "elif not(n>12):\n",
        "  print(\"Else part\")"
      ],
      "metadata": {
        "colab": {
          "base_uri": "https://localhost:8080/"
        },
        "id": "2jqGt_G1JT53",
        "outputId": "14530ad1-8c9d-4b8c-cc5a-a8f00b25d1ed"
      },
      "execution_count": null,
      "outputs": [
        {
          "output_type": "stream",
          "name": "stdout",
          "text": [
            "Else part\n"
          ]
        }
      ]
    },
    {
      "cell_type": "code",
      "source": [
        "n =15\n",
        "if 15>12:\n",
        "  print(\">12\")\n",
        "elif not(n>12):\n",
        "  print(\"Else part\")"
      ],
      "metadata": {
        "colab": {
          "base_uri": "https://localhost:8080/"
        },
        "id": "PDts7hHAKQdJ",
        "outputId": "66f7498d-e389-4757-89c0-d2c8936f012c"
      },
      "execution_count": null,
      "outputs": [
        {
          "output_type": "stream",
          "name": "stdout",
          "text": [
            ">12\n"
          ]
        }
      ]
    },
    {
      "cell_type": "markdown",
      "source": [
        ""
      ],
      "metadata": {
        "id": "JuuNqcDhKKvZ"
      }
    },
    {
      "cell_type": "markdown",
      "source": [
        "Nested If-n else:"
      ],
      "metadata": {
        "id": "luJBhb3eKLKe"
      }
    },
    {
      "cell_type": "code",
      "source": [
        "x = int(input(\"Enter your number:\"))\n",
        "if x>10:\n",
        "  print(\"Your number is above ten,\")\n",
        "if x>20:\n",
        "  print(\"and also above 20!\")\n",
        "else:\n",
        "  print(\"but not above 20.\")"
      ],
      "metadata": {
        "id": "mCQvo0W_KQv3",
        "colab": {
          "base_uri": "https://localhost:8080/"
        },
        "outputId": "3e09c87f-e9c8-4000-821c-6c2ebbbb01df"
      },
      "execution_count": null,
      "outputs": [
        {
          "output_type": "stream",
          "name": "stdout",
          "text": [
            "Enter your number:12\n",
            "Your number is above ten,\n",
            "but not above 20.\n"
          ]
        }
      ]
    },
    {
      "cell_type": "code",
      "source": [
        "x = int(input(\"Enter your number:\"))\n",
        "if x>10:\n",
        "  print(\"Your number is above ten,\")\n",
        "if x>20:\n",
        "  print(\"and also above 20!\")\n",
        "else:\n",
        "  print(\"but not above 20.\")"
      ],
      "metadata": {
        "colab": {
          "base_uri": "https://localhost:8080/"
        },
        "id": "5SPFM1XZM694",
        "outputId": "8ac69d62-6401-403b-94ea-d2605144f624"
      },
      "execution_count": null,
      "outputs": [
        {
          "output_type": "stream",
          "name": "stdout",
          "text": [
            "Enter your number:25\n",
            "Your number is above ten,\n",
            "and also above 20!\n"
          ]
        }
      ]
    },
    {
      "cell_type": "code",
      "source": [
        "x = int(input(\"Enter your number:\"))\n",
        "if x>10:\n",
        "  print(\"Your number is above ten,\")\n",
        "if x>20:\n",
        "  print(\"and also above 20!\")\n",
        "else:\n",
        "  print(\"but not above 20.\")"
      ],
      "metadata": {
        "colab": {
          "base_uri": "https://localhost:8080/"
        },
        "id": "tGIqKBrDM714",
        "outputId": "f51e34d5-b222-4199-ac60-9f8fb3aa77a7"
      },
      "execution_count": null,
      "outputs": [
        {
          "output_type": "stream",
          "name": "stdout",
          "text": [
            "Enter your number:6\n",
            "but not above 20.\n"
          ]
        }
      ]
    },
    {
      "cell_type": "code",
      "source": [
        "k = int(input())\n",
        "if k>15:\n",
        "  print(\">15\")\n",
        "  print(\"Inside the top if\")\n",
        "  if k>35:\n",
        "    print(\">35\")\n",
        "    print(\"Inside the nested if\")\n",
        "  else:\n",
        "      print(\"<=35\")\n",
        "      print(\"Inside the else part of nested if\")"
      ],
      "metadata": {
        "colab": {
          "base_uri": "https://localhost:8080/"
        },
        "id": "e36RJ0DnM8YJ",
        "outputId": "f3c0c4a6-d6b7-44b1-e685-7a37b5fa9162"
      },
      "execution_count": null,
      "outputs": [
        {
          "output_type": "stream",
          "name": "stdout",
          "text": [
            "22\n",
            ">15\n",
            "Inside the top if\n",
            "<=35\n",
            "Inside the else part of nested if\n"
          ]
        }
      ]
    },
    {
      "cell_type": "code",
      "source": [
        "k = int(input())\n",
        "if k>15:\n",
        "  print(\">15\")\n",
        "  print(\"Inside the top if\")\n",
        "  if k>35:\n",
        "    print(\">35\")\n",
        "    print(\"Inside the nested if\")\n",
        "  else:\n",
        "      print(\"<=35\")\n",
        "      print(\"Inside the else part of nested if\")"
      ],
      "metadata": {
        "colab": {
          "base_uri": "https://localhost:8080/"
        },
        "id": "52x-8GsHQPcZ",
        "outputId": "bd0caa36-580e-456c-8453-55a2128cbb6f"
      },
      "execution_count": null,
      "outputs": [
        {
          "output_type": "stream",
          "name": "stdout",
          "text": [
            "47\n",
            ">15\n",
            "Inside the top if\n",
            ">35\n",
            "Inside the nested if\n"
          ]
        }
      ]
    },
    {
      "cell_type": "code",
      "source": [
        "k = int(input())\n",
        "if k>15:\n",
        "  print(\">15\")\n",
        "  print(\"Inside the top if\")\n",
        "  if k>35:\n",
        "    print(\">35\")\n",
        "    print(\"Inside the nested if\")\n",
        "  else:\n",
        "      print(\"<=35\")\n",
        "      print(\"Inside the else part of nested if\")\n",
        "print(\"Outside all ifs\")"
      ],
      "metadata": {
        "colab": {
          "base_uri": "https://localhost:8080/"
        },
        "id": "cuZDojuhQyjY",
        "outputId": "3b3c34f0-6f2e-4928-d39d-60a9a33ed5c7"
      },
      "execution_count": null,
      "outputs": [
        {
          "output_type": "stream",
          "name": "stdout",
          "text": [
            "12\n",
            "Outside all ifs\n"
          ]
        }
      ]
    },
    {
      "cell_type": "code",
      "source": [
        "k = int(input())\n",
        "if k>15:\n",
        "   print(\">15\")\n",
        "   print(\"Inside the top if\")\n",
        "   if k>35:\n",
        "      print(\">35\")\n",
        "      print(\"Inside the nested if\")\n",
        "      if k>25:\n",
        "        print(\">25\")\n",
        "        print(\"Inside the nested if of nested if\")\n",
        "      else:\n",
        "           print(\"<=20\")\n",
        "           print(\"Inside the else part of nested if of nested if\")\n",
        "   else:\n",
        "        print(\"<=35\")\n",
        "        print(\"Inside the else part of nested if\")\n",
        "print(\"Outside all ifs\")"
      ],
      "metadata": {
        "colab": {
          "base_uri": "https://localhost:8080/"
        },
        "id": "IZx5mQ6cQy1X",
        "outputId": "8d0d0683-608e-49f2-9450-a5fbd6f46d87"
      },
      "execution_count": null,
      "outputs": [
        {
          "output_type": "stream",
          "name": "stdout",
          "text": [
            "3\n",
            "Outside all ifs\n"
          ]
        }
      ]
    },
    {
      "cell_type": "code",
      "source": [
        "k = int(input())\n",
        "if k>15:\n",
        "   print(\">15\")\n",
        "   print(\"Inside the top if\")\n",
        "   if k>35:\n",
        "      print(\">35\")\n",
        "      print(\"Inside the nested if\")\n",
        "      if k>25:\n",
        "        print(\">25\")\n",
        "        print(\"Inside the nested if of nested if\")\n",
        "      else:\n",
        "           print(\"<=20\")\n",
        "           print(\"Inside the else part of nested if of nested if\")\n",
        "   else:\n",
        "        print(\"<=35\")\n",
        "        print(\"Inside the else part of nested if\")\n",
        "print(\"Outside all ifs\")"
      ],
      "metadata": {
        "colab": {
          "base_uri": "https://localhost:8080/"
        },
        "id": "RepCVPNWQy_w",
        "outputId": "1435cc39-3170-44c3-e190-a0c25e961658"
      },
      "execution_count": null,
      "outputs": [
        {
          "output_type": "stream",
          "name": "stdout",
          "text": [
            "50\n",
            ">15\n",
            "Inside the top if\n",
            ">35\n",
            "Inside the nested if\n",
            ">25\n",
            "Inside the nested if of nested if\n",
            "Outside all ifs\n"
          ]
        }
      ]
    },
    {
      "cell_type": "code",
      "source": [
        "k = int(input())\n",
        "if k>15:\n",
        "   print(\">15\")\n",
        "   print(\"Inside the top if\")\n",
        "   if k>35:\n",
        "      print(\">35\")\n",
        "      print(\"Inside the nested if\")\n",
        "      if k>25:\n",
        "        print(\">25\")\n",
        "        print(\"Inside the nested if of nested if\")\n",
        "      else:\n",
        "           print(\"<=20\")\n",
        "           print(\"Inside the else part of nested if of nested if\")\n",
        "   else:\n",
        "        print(\"<=35\")\n",
        "        print(\"Inside the else part of nested if\")\n",
        "print(\"Outside all ifs\")"
      ],
      "metadata": {
        "colab": {
          "base_uri": "https://localhost:8080/"
        },
        "id": "AMf0Cbl9QzNW",
        "outputId": "5b580863-1a11-44c9-f5b6-b229feec4796"
      },
      "execution_count": null,
      "outputs": [
        {
          "output_type": "stream",
          "name": "stdout",
          "text": [
            "17\n",
            ">15\n",
            "Inside the top if\n",
            "<=35\n",
            "Inside the else part of nested if\n",
            "Outside all ifs\n"
          ]
        }
      ]
    },
    {
      "cell_type": "code",
      "source": [
        "x = float(input(\"Enter a real number:\"))\n",
        "y = round(x)\n",
        "if y>x:\n",
        "  intportion =y-1\n",
        "else:\n",
        "     intportion =y\n",
        "print(intportion)"
      ],
      "metadata": {
        "colab": {
          "base_uri": "https://localhost:8080/"
        },
        "id": "8M3qLuSWQzZA",
        "outputId": "12801746-736e-40f7-f5de-66ffc91764c5"
      },
      "execution_count": null,
      "outputs": [
        {
          "output_type": "stream",
          "name": "stdout",
          "text": [
            "Enter a real number:9.491823\n",
            "9\n"
          ]
        }
      ]
    },
    {
      "cell_type": "code",
      "source": [
        "x = float(input(\"Enter a real number:\"))\n",
        "\n",
        "y = round(x)\n",
        "if y>x:\n",
        "  intportion =y-1\n",
        "else:\n",
        "     intportion =y\n",
        "print(intportion)"
      ],
      "metadata": {
        "colab": {
          "base_uri": "https://localhost:8080/"
        },
        "id": "_1WuLubIb3gX",
        "outputId": "c81f0b9b-1c66-47f5-fde1-8ba4b15cef42"
      },
      "execution_count": null,
      "outputs": [
        {
          "output_type": "stream",
          "name": "stdout",
          "text": [
            "Enter a real number:12.587912\n",
            "12\n"
          ]
        }
      ]
    },
    {
      "cell_type": "code",
      "source": [
        "x = float(input(\"Enter a real number:\"))\n",
        "y = round(x)\n",
        "if x>0:\n",
        "    if y>x:\n",
        "      intportion =y-1\n",
        "    else:\n",
        "       intportion =y\n",
        "\n",
        "else:\n",
        "     if y<x:\n",
        "         intportion = y+1\n",
        "     else:\n",
        "        intportion = y\n",
        "print(intportion)\n"
      ],
      "metadata": {
        "colab": {
          "base_uri": "https://localhost:8080/"
        },
        "id": "mtxsUrKZb3tF",
        "outputId": "40adbd6d-2d9d-4a0e-aa5e-96425e4419e4"
      },
      "execution_count": null,
      "outputs": [
        {
          "output_type": "stream",
          "name": "stdout",
          "text": [
            "Enter a real number:10.95682\n",
            "10\n"
          ]
        }
      ]
    },
    {
      "cell_type": "code",
      "source": [
        "x = float(input(\"Enter a real number:\"))\n",
        "y = round(x)\n",
        "if x>0:\n",
        "    if y>x:\n",
        "      intportion =y-1\n",
        "    else:\n",
        "       intportion =y\n",
        "\n",
        "else:\n",
        "     if y<x:\n",
        "         intportion = y+1\n",
        "     else:\n",
        "        intportion = y\n",
        "print(intportion)"
      ],
      "metadata": {
        "colab": {
          "base_uri": "https://localhost:8080/"
        },
        "id": "9uDmsASab32-",
        "outputId": "47c1aa9d-2a40-401c-f3dd-1b9da8a48315"
      },
      "execution_count": null,
      "outputs": [
        {
          "output_type": "stream",
          "name": "stdout",
          "text": [
            "Enter a real number:-6.07319\n",
            "-6\n"
          ]
        }
      ]
    },
    {
      "cell_type": "code",
      "source": [
        "x = float(input(\"Enter a real number:\"))\n",
        "y = round(x)\n",
        "if x>0:\n",
        "    if y>x:\n",
        "      intportion =y-1\n",
        "    else:\n",
        "       intportion =y\n",
        "\n",
        "else:\n",
        "     if y<x:\n",
        "         intportion = y+1\n",
        "     else:\n",
        "        intportion = y\n",
        "if intportion%2 ==0:\n",
        "    print(\"Even\")\n",
        "else:\n",
        "    print(\"Odd\")"
      ],
      "metadata": {
        "colab": {
          "base_uri": "https://localhost:8080/"
        },
        "id": "CvcfXV-7b4AV",
        "outputId": "57a5af8b-0c8d-4874-92c4-9eaf40811b7d"
      },
      "execution_count": null,
      "outputs": [
        {
          "output_type": "stream",
          "name": "stdout",
          "text": [
            "Enter a real number:72.21\n",
            "Even\n"
          ]
        }
      ]
    },
    {
      "cell_type": "code",
      "source": [
        "x = float(input(\"Enter a real number:\"))\n",
        "y = round(x)\n",
        "if x>0:\n",
        "    if y>x:\n",
        "      intportion =y-1\n",
        "    else:\n",
        "       intportion =y\n",
        "\n",
        "else:\n",
        "     if y<x:\n",
        "         intportion = y+1\n",
        "     else:\n",
        "        intportion = y\n",
        "print(intportion)\n",
        "if intportion%2 ==0:\n",
        "    print(\"Even\")\n",
        "else:\n",
        "    print(\"Odd\")"
      ],
      "metadata": {
        "colab": {
          "base_uri": "https://localhost:8080/"
        },
        "id": "4SwEkygIQzkf",
        "outputId": "96d33b77-d72b-4513-dc8c-5f6a1da7a4c5"
      },
      "execution_count": null,
      "outputs": [
        {
          "output_type": "stream",
          "name": "stdout",
          "text": [
            "Enter a real number:72.21\n",
            "72\n",
            "Even\n"
          ]
        }
      ]
    },
    {
      "cell_type": "code",
      "source": [
        "x = float(input(\"Enter a real number:\"))\n",
        "y = round(x)\n",
        "if x>0:\n",
        "    if y>x:\n",
        "      intportion =y-1\n",
        "    else:\n",
        "       intportion =y\n",
        "\n",
        "else:\n",
        "     if y<x:\n",
        "         intportion = y+1\n",
        "     else:\n",
        "        intportion = y\n",
        "print(intportion)\n",
        "if intportion%2 ==0:\n",
        "    print(\"Even\")\n",
        "else:\n",
        "    print(\"Odd\")"
      ],
      "metadata": {
        "colab": {
          "base_uri": "https://localhost:8080/"
        },
        "id": "jyc46EJmQz5h",
        "outputId": "a299f53d-0aef-4bbc-94fe-02cf51fea913"
      },
      "execution_count": null,
      "outputs": [
        {
          "output_type": "stream",
          "name": "stdout",
          "text": [
            "Enter a real number:-51.92\n",
            "-51\n",
            "Odd\n"
          ]
        }
      ]
    },
    {
      "cell_type": "markdown",
      "source": [
        "# ***Loops:***"
      ],
      "metadata": {
        "id": "Lu-u9B1fm6AV"
      }
    },
    {
      "cell_type": "code",
      "source": [
        "n = int(input('Max iterations:'))\n",
        "i =1\n",
        "while i < n:\n",
        "  print(i)\n",
        "  i+=1\n",
        "print('done')"
      ],
      "metadata": {
        "id": "_vkPb7kIm-ML"
      },
      "execution_count": null,
      "outputs": []
    },
    {
      "cell_type": "code",
      "source": [
        "n = int(input())\n",
        "i =1\n",
        "while (i<n):\n",
        "  print(i**2)\n",
        "  print(\"This is iteration number : \",i)\n",
        "  i+=1\n",
        "print(\"Loop done\")"
      ],
      "metadata": {
        "id": "9rZvQGndseoi"
      },
      "execution_count": null,
      "outputs": []
    },
    {
      "cell_type": "code",
      "source": [
        "n = int(input('Max iterations:'))\n",
        "i =1\n",
        "while i < n:\n",
        "    if i%2==0:\n",
        "      print(i)\n",
        "    else:\n",
        "         pass\n",
        "    i+=1\n",
        "print('done')"
      ],
      "metadata": {
        "id": "zq0GE-G_sfXw"
      },
      "execution_count": null,
      "outputs": []
    },
    {
      "cell_type": "code",
      "source": [
        "i =1\n",
        "while True:\n",
        "  if i%17==0:\n",
        "    print('break')\n",
        "    break\n",
        "  else:\n",
        "       i+=1\n",
        "       continue\n",
        "  print('I am inside the loop')\n",
        "print('done')"
      ],
      "metadata": {
        "id": "6Zrme3Nbsfl2"
      },
      "execution_count": null,
      "outputs": []
    },
    {
      "cell_type": "code",
      "source": [
        "m = 15 \n",
        "i = 1\n",
        "while True:\n",
        "    if i%11 !=0:\n",
        "      print(\"Inside if\")\n",
        "      i+=1\n",
        "      continue\n",
        "    print(\"something\")\n",
        "    print(\"somethingelse\")\n",
        "    break\n",
        "print(\"done\")"
      ],
      "metadata": {
        "id": "p034wGqf2SaQ"
      },
      "execution_count": null,
      "outputs": []
    },
    {
      "cell_type": "code",
      "source": [
        "m = 15 \n",
        "i = 1\n",
        "while True:\n",
        "    if i%4 !=0:\n",
        "      print(\"Inside if\")\n",
        "      i+=1\n",
        "      continue\n",
        "    print(\"something\")\n",
        "    print(\"somethingelse\")\n",
        "    break\n",
        "print(\"done\")"
      ],
      "metadata": {
        "id": "wR8ThVZK2Skm"
      },
      "execution_count": null,
      "outputs": []
    },
    {
      "cell_type": "code",
      "source": [
        "L = []\n",
        "for i in range(10):\n",
        "  print(i+1)\n",
        "  L.append(i**2)\n",
        "print(L)"
      ],
      "metadata": {
        "id": "-YKVDECI2Sum"
      },
      "execution_count": null,
      "outputs": []
    },
    {
      "cell_type": "code",
      "source": [
        "L = []\n",
        "for i in range(0,10,2):\n",
        "  print(i)\n",
        "  L.append(i**2)\n",
        "print(L)"
      ],
      "metadata": {
        "id": "tmjHAwz42S3Q"
      },
      "execution_count": null,
      "outputs": []
    },
    {
      "cell_type": "code",
      "source": [
        "s = { \"apple\", 4.9,\"cherry\"}\n",
        "for x in s:\n",
        "  print(x)\n",
        "else:\n",
        "     print('Loop completes its iterations')\n",
        "print(\"outside the loop\")"
      ],
      "metadata": {
        "id": "YckHzyyP-Te4"
      },
      "execution_count": null,
      "outputs": []
    },
    {
      "cell_type": "code",
      "source": [
        "s = { \"apple\", 4.9,\"cherry\"}\n",
        "i =1\n",
        "for x in s:\n",
        "  print(x)\n",
        "  i+=1\n",
        "  if i==3:\n",
        "    break\n",
        "  else:\n",
        "    pass\n",
        "else:\n",
        "     print('Loop terminate with success')\n",
        "print(\"outside the loop\")"
      ],
      "metadata": {
        "id": "nPk7gFHS-TuP"
      },
      "execution_count": null,
      "outputs": []
    },
    {
      "cell_type": "code",
      "source": [
        "D = {\"apple\":44,\"cherry\":\"game\"}\n",
        "for x in D:\n",
        "  print(x,D[x])"
      ],
      "metadata": {
        "id": "u7FaKw64-T7-"
      },
      "execution_count": null,
      "outputs": []
    },
    {
      "cell_type": "code",
      "source": [
        "D = {\"k\":10, \"M\":\"cghit\", \"R\":-293}\n",
        "for x in D:\n",
        "  print(x,D[x])"
      ],
      "metadata": {
        "id": "q9uGjjaK-UMj"
      },
      "execution_count": null,
      "outputs": []
    },
    {
      "cell_type": "markdown",
      "source": [
        "List order in control flow:"
      ],
      "metadata": {
        "id": "7kj22J_kgJwH"
      }
    },
    {
      "cell_type": "code",
      "source": [
        "L = [1,2,3,6,-12,15,9,3,4,5,6,7,-10]\n",
        "m = L[0]\n",
        "for i in L:\n",
        "  if i<m:\n",
        "    m = i\n",
        "print(m)"
      ],
      "metadata": {
        "id": "e2HmZ00i-UWu",
        "colab": {
          "base_uri": "https://localhost:8080/"
        },
        "outputId": "6ce43c11-4679-4360-b1fc-e2f9640c4ecc"
      },
      "execution_count": null,
      "outputs": [
        {
          "output_type": "stream",
          "name": "stdout",
          "text": [
            "-12\n"
          ]
        }
      ]
    },
    {
      "cell_type": "code",
      "source": [
        "L = [1,2,3,6,-12,15,9,3,4,5,6,7,-10]\n",
        "for j in range(len(l)):\n",
        "m = L[j]\n",
        "idx = j\n",
        "c =j\n",
        "for i in L:\n",
        "  if i<m:\n",
        "    m = i\n",
        "    idx =c\n",
        "  c+=1\n",
        "print(idx,m)"
      ],
      "metadata": {
        "id": "bzbvxle9-UhO",
        "colab": {
          "base_uri": "https://localhost:8080/"
        },
        "outputId": "df08c3e0-71c5-4cb3-8e54-e6978daba0ba"
      },
      "execution_count": null,
      "outputs": [
        {
          "output_type": "stream",
          "name": "stdout",
          "text": [
            "4 -12\n"
          ]
        }
      ]
    },
    {
      "cell_type": "code",
      "source": [
        "L = [1,2,3,6,-12,15,9,3,4,5,6,7,-10]\n",
        "for j in range(len(L)):\n",
        "    m = L[j]\n",
        "    idx = j\n",
        "    c =j\n",
        "    for i in range(j,len(L)):\n",
        "        if L[i]<m:\n",
        "            m = L[i]\n",
        "            idx =c\n",
        "        c+=1\n",
        "    tmp = L[j] \n",
        "    L[j] = m\n",
        "    L[idx] = tmp\n",
        "print(L)"
      ],
      "metadata": {
        "id": "IQPm6V27h7UY",
        "colab": {
          "base_uri": "https://localhost:8080/"
        },
        "outputId": "964884c4-8518-4692-81d2-d404b8b4d8a6"
      },
      "execution_count": 12,
      "outputs": [
        {
          "output_type": "stream",
          "name": "stdout",
          "text": [
            "[-12, -10, 1, 2, 3, 3, 4, 5, 6, 6, 7, 9, 15]\n"
          ]
        }
      ]
    },
    {
      "cell_type": "code",
      "source": [
        "L = [1,2,3,6,-12,15,9,3,4,5,6,7,-10]\n",
        "m = L[0]\n",
        "idx = 0\n",
        "c =0\n",
        "for i in L:\n",
        "  if i<m:\n",
        "    m = i\n",
        "    idx =c\n",
        "  c+=1\n",
        "tmp = L[0]\n",
        "L[0] = m\n",
        "L[idx] = tmp"
      ],
      "metadata": {
        "id": "3-JgkLs4jx9n"
      },
      "execution_count": 2,
      "outputs": []
    },
    {
      "cell_type": "code",
      "source": [
        "L"
      ],
      "metadata": {
        "colab": {
          "base_uri": "https://localhost:8080/"
        },
        "id": "tp5QFgvvjyd-",
        "outputId": "a2abc09e-e7f2-4150-a691-117cf553b069"
      },
      "execution_count": 4,
      "outputs": [
        {
          "output_type": "execute_result",
          "data": {
            "text/plain": [
              "[-12, 2, 3, 6, 1, 15, 9, 3, 4, 5, 6, 7, -10]"
            ]
          },
          "metadata": {},
          "execution_count": 4
        }
      ]
    }
  ]
}